{
 "cells": [
  {
   "cell_type": "markdown",
   "metadata": {},
   "source": [
    "## Ejercicios Cálculo Distancias: Euclídiana y Manhattan"
   ]
  },
  {
   "cell_type": "markdown",
   "metadata": {},
   "source": [
    "#### Librerías a utilizar"
   ]
  },
  {
   "cell_type": "code",
   "execution_count": 1,
   "metadata": {},
   "outputs": [],
   "source": [
    "# Librería para procesos matemáticos\n",
    "import numpy as np\n",
    "import pandas as pd"
   ]
  },
  {
   "cell_type": "markdown",
   "metadata": {},
   "source": [
    "## Euclídiana"
   ]
  },
  {
   "cell_type": "markdown",
   "metadata": {},
   "source": [
    "#### Se cargan los datos"
   ]
  },
  {
   "cell_type": "code",
   "execution_count": 3,
   "metadata": {},
   "outputs": [
    {
     "name": "stdout",
     "output_type": "stream",
     "text": [
      "[-23.99, 24.25]\n",
      "[32.51, 91.82]\n"
     ]
    }
   ],
   "source": [
    "# Se cargan los valores en dos listas, una para cliente1 y otra para cliente2\n",
    "##### INSERTE SU CÓDIGO AQUÍ #####\n",
    "cliente1 = [-23.99, 24.25]\n",
    "\n",
    "cliente2 = [32.51, 91.82]\n",
    "\n",
    "##### FIN CÓDIGO INSERTADO #####\n",
    "\n",
    "print(cliente1)\n",
    "print(cliente2)"
   ]
  },
  {
   "cell_type": "markdown",
   "metadata": {},
   "source": [
    "#### Función para el cálculo de la distancia Euclídiana"
   ]
  },
  {
   "cell_type": "code",
   "execution_count": 4,
   "metadata": {},
   "outputs": [
    {
     "name": "stdout",
     "output_type": "stream",
     "text": [
      "Distancia Euclídiana =  88.079\n"
     ]
    }
   ],
   "source": [
    "# Cálculo de distancia Euclídiana\n",
    "##### INSERTE SU CÓDIGO AQUÍ #####\n",
    "def distancia_euclidiana(cliente1, cliente2):\n",
    "    distancia = np.sqrt( np.power( (cliente2[0] - cliente1[0]), 2) + np.power( (cliente2[1] - cliente1[1]), 2))\n",
    "    return round(distancia, 3)\n",
    "\n",
    "resultado = distancia_euclidiana(cliente1, cliente2)\n",
    "\n",
    "##### FIN CÓDIGO INSERTADO #####\n",
    "\n",
    "print(\"Distancia Euclídiana = \", resultado)"
   ]
  },
  {
   "cell_type": "markdown",
   "metadata": {},
   "source": [
    "## Manhattan"
   ]
  },
  {
   "cell_type": "markdown",
   "metadata": {},
   "source": [
    "#### Se cargan los datos"
   ]
  },
  {
   "cell_type": "code",
   "execution_count": 7,
   "metadata": {},
   "outputs": [
    {
     "name": "stdout",
     "output_type": "stream",
     "text": [
      "[-1, 1, 3, 2]\n",
      "[5, 6, 5, 3]\n",
      "4\n"
     ]
    }
   ],
   "source": [
    "# Se cargan los registros en listas\n",
    "##### INSERTE SU CÓDIGO AQUÍ #####\n",
    "x = [-1, 1, 3, 2]\n",
    "y = [5, 6, 5, 3]\n",
    "n = 4\n",
    "\n",
    "##### FIN CÓDIGO INSERTADO #####\n",
    "\n",
    "print(x)\n",
    "print(y)\n",
    "print(n)"
   ]
  },
  {
   "cell_type": "markdown",
   "metadata": {},
   "source": [
    "#### Función para distancia Manhattan\n"
   ]
  },
  {
   "cell_type": "code",
   "execution_count": 29,
   "metadata": {},
   "outputs": [
    {
     "name": "stdout",
     "output_type": "stream",
     "text": [
      "Distancia Manhattan =  22\n"
     ]
    }
   ],
   "source": [
    "# Cálculo de la distancia Manhattan\n",
    "##### INSERTE SU CÓDIGO AQUÍ #####\n",
    "def distancia_manhattan(x, y, n):\n",
    "    # Acumulador\n",
    "    sum = 0\n",
    "\n",
    "    # Ciclo para n\n",
    "    for i in range(n):\n",
    "        # Ciclo para procesar los elementos de x y y\n",
    "        for j in range(i+1, n):\n",
    "            sum += ( abs(x[i] - x[j]) ) + ( abs(y[i] - y[j]))\n",
    "    \n",
    "    return sum\n",
    "\n",
    "resultado = distancia_manhattan(x, y, n)\n",
    "\n",
    "##### FIN CÓDIGO INSERTADO #####\n",
    "\n",
    "print(\"Distancia Manhattan = \", resultado)"
   ]
  }
 ],
 "metadata": {
  "kernelspec": {
   "display_name": "Python 3.9.13 64-bit",
   "language": "python",
   "name": "python3"
  },
  "language_info": {
   "codemirror_mode": {
    "name": "ipython",
    "version": 3
   },
   "file_extension": ".py",
   "mimetype": "text/x-python",
   "name": "python",
   "nbconvert_exporter": "python",
   "pygments_lexer": "ipython3",
   "version": "3.9.13"
  },
  "orig_nbformat": 4,
  "vscode": {
   "interpreter": {
    "hash": "aee8b7b246df8f9039afb4144a1f6fd8d2ca17a180786b69acc140d282b71a49"
   }
  }
 },
 "nbformat": 4,
 "nbformat_minor": 2
}
