{
 "cells": [
  {
   "attachments": {},
   "cell_type": "markdown",
   "metadata": {},
   "source": [
    "# Ejercicio de regresion logistica"
   ]
  },
  {
   "attachments": {},
   "cell_type": "markdown",
   "metadata": {},
   "source": [
    "## Importar librerias"
   ]
  },
  {
   "cell_type": "code",
   "execution_count": 1,
   "metadata": {},
   "outputs": [],
   "source": [
    "##Librerías\n",
    "import pandas as pd\n",
    "import numpy as np\n",
    "import matplotlib.pyplot as plt\n",
    "import seaborn as sns\n",
    "\n",
    "import warnings\n",
    "warnings.filterwarnings('ignore')"
   ]
  },
  {
   "cell_type": "code",
   "execution_count": 2,
   "metadata": {},
   "outputs": [],
   "source": [
    "from sklearn import preprocessing"
   ]
  },
  {
   "attachments": {},
   "cell_type": "markdown",
   "metadata": {},
   "source": [
    "## Funciones"
   ]
  },
  {
   "cell_type": "code",
   "execution_count": 3,
   "metadata": {},
   "outputs": [],
   "source": [
    "def datos_NAN(df):\n",
    "    if isinstance(df, pd.DataFrame):\n",
    "        total_na = df.isna().sum().sum()\n",
    "        print(\"Dimesiones: %d filas, %d columnas\" % (df.shape[0], df.shape[1]))\n",
    "        print(\"Total de Valores NAN: %d\" % (total_na))\n",
    "        print(\"%40s %10s  %10s %10s\" % (\"Nombre Columna\", \"Tipo Dato\", \"#Unicos\", \"Cant Valores NAN\"))\n",
    "        col_name = df.columns\n",
    "        dtyp = df.dtypes\n",
    "        uniq = df.nunique()\n",
    "        na_val = df.isna().sum()\n",
    "        for i in range(len(df.columns)):\n",
    "            print(\"%40s %10s  %10s %10s\" % (col_name[i], dtyp[i], uniq[i], na_val[i]))\n",
    "    else:\n",
    "        print(\"Se esperaba un dataframe: %15s\" % (type(df)))"
   ]
  },
  {
   "cell_type": "code",
   "execution_count": 4,
   "metadata": {},
   "outputs": [],
   "source": [
    "##FUncion reemplazo de datos categóricos NAN\n",
    "def imputacionCatNA(df, nomCol):\n",
    "    df[nomCol] = df[nomCol].fillna(df[nomCol].mode()[0])\n",
    "    return df[nomCol]"
   ]
  },
  {
   "cell_type": "code",
   "execution_count": 5,
   "metadata": {},
   "outputs": [],
   "source": [
    "## Funcion para binarizar datos categoricos de solo dos opciones\n",
    "def binarizar(df,nomCol):\n",
    "    label_e = preprocessing.LabelEncoder()\n",
    "    df[nomCol] = label_e.fit_transform(df[nomCol])\n",
    "    return df"
   ]
  },
  {
   "attachments": {},
   "cell_type": "markdown",
   "metadata": {},
   "source": [
    "## Importar Dataset"
   ]
  },
  {
   "cell_type": "code",
   "execution_count": 6,
   "metadata": {},
   "outputs": [],
   "source": [
    "url = \"https://raw.githubusercontent.com/jaquimbayoc8/DiplomadoMLA2023/main/5.RegresionLogistica/Dataset/weatherAUS.csv\"\n",
    "df = pd.read_csv(url)"
   ]
  },
  {
   "attachments": {},
   "cell_type": "markdown",
   "metadata": {},
   "source": [
    "## Extracion de datos\n"
   ]
  },
  {
   "cell_type": "code",
   "execution_count": 7,
   "metadata": {},
   "outputs": [
    {
     "name": "stdout",
     "output_type": "stream",
     "text": [
      "Index(['Date', 'Location', 'MinTemp', 'MaxTemp', 'Rainfall', 'Evaporation',\n",
      "       'Sunshine', 'WindGustDir', 'WindGustSpeed', 'WindDir9am', 'WindDir3pm',\n",
      "       'WindSpeed9am', 'WindSpeed3pm', 'Humidity9am', 'Humidity3pm',\n",
      "       'Pressure9am', 'Pressure3pm', 'Cloud9am', 'Cloud3pm', 'Temp9am',\n",
      "       'Temp3pm', 'RainToday', 'RainTomorrow'],\n",
      "      dtype='object')\n"
     ]
    }
   ],
   "source": [
    "##Extraer los encabezados del dataframe\n",
    "enca = df.columns\n",
    "print(enca)"
   ]
  },
  {
   "attachments": {},
   "cell_type": "markdown",
   "metadata": {},
   "source": [
    "## Sacar variables categoricas"
   ]
  },
  {
   "cell_type": "code",
   "execution_count": 8,
   "metadata": {},
   "outputs": [
    {
     "name": "stdout",
     "output_type": "stream",
     "text": [
      "Hay 7 variables de tipo categórico\n",
      "Las variables categóricas son: ['Date', 'Location', 'WindGustDir', 'WindDir9am', 'WindDir3pm', 'RainToday', 'RainTomorrow']\n"
     ]
    }
   ],
   "source": [
    "## Sacar las variables Categóricas\n",
    "categoricas = [i for i in df.columns if df[i].dtype=='O']\n",
    "\n",
    "print('Hay {} variables de tipo categórico'.format(len(categoricas)))\n",
    "\n",
    "print('Las variables categóricas son:', categoricas)"
   ]
  },
  {
   "cell_type": "code",
   "execution_count": 9,
   "metadata": {},
   "outputs": [
    {
     "data": {
      "text/html": [
       "<div>\n",
       "<style scoped>\n",
       "    .dataframe tbody tr th:only-of-type {\n",
       "        vertical-align: middle;\n",
       "    }\n",
       "\n",
       "    .dataframe tbody tr th {\n",
       "        vertical-align: top;\n",
       "    }\n",
       "\n",
       "    .dataframe thead th {\n",
       "        text-align: right;\n",
       "    }\n",
       "</style>\n",
       "<table border=\"1\" class=\"dataframe\">\n",
       "  <thead>\n",
       "    <tr style=\"text-align: right;\">\n",
       "      <th></th>\n",
       "      <th>Date</th>\n",
       "      <th>Location</th>\n",
       "      <th>WindGustDir</th>\n",
       "      <th>WindDir9am</th>\n",
       "      <th>WindDir3pm</th>\n",
       "      <th>RainToday</th>\n",
       "      <th>RainTomorrow</th>\n",
       "    </tr>\n",
       "  </thead>\n",
       "  <tbody>\n",
       "    <tr>\n",
       "      <th>0</th>\n",
       "      <td>2008-12-01</td>\n",
       "      <td>Albury</td>\n",
       "      <td>W</td>\n",
       "      <td>W</td>\n",
       "      <td>WNW</td>\n",
       "      <td>No</td>\n",
       "      <td>No</td>\n",
       "    </tr>\n",
       "    <tr>\n",
       "      <th>1</th>\n",
       "      <td>2008-12-02</td>\n",
       "      <td>Albury</td>\n",
       "      <td>WNW</td>\n",
       "      <td>NNW</td>\n",
       "      <td>WSW</td>\n",
       "      <td>No</td>\n",
       "      <td>No</td>\n",
       "    </tr>\n",
       "    <tr>\n",
       "      <th>2</th>\n",
       "      <td>2008-12-03</td>\n",
       "      <td>Albury</td>\n",
       "      <td>WSW</td>\n",
       "      <td>W</td>\n",
       "      <td>WSW</td>\n",
       "      <td>No</td>\n",
       "      <td>No</td>\n",
       "    </tr>\n",
       "    <tr>\n",
       "      <th>3</th>\n",
       "      <td>2008-12-04</td>\n",
       "      <td>Albury</td>\n",
       "      <td>NE</td>\n",
       "      <td>SE</td>\n",
       "      <td>E</td>\n",
       "      <td>No</td>\n",
       "      <td>No</td>\n",
       "    </tr>\n",
       "    <tr>\n",
       "      <th>4</th>\n",
       "      <td>2008-12-05</td>\n",
       "      <td>Albury</td>\n",
       "      <td>W</td>\n",
       "      <td>ENE</td>\n",
       "      <td>NW</td>\n",
       "      <td>No</td>\n",
       "      <td>No</td>\n",
       "    </tr>\n",
       "  </tbody>\n",
       "</table>\n",
       "</div>"
      ],
      "text/plain": [
       "         Date Location WindGustDir WindDir9am WindDir3pm RainToday  \\\n",
       "0  2008-12-01   Albury           W          W        WNW        No   \n",
       "1  2008-12-02   Albury         WNW        NNW        WSW        No   \n",
       "2  2008-12-03   Albury         WSW          W        WSW        No   \n",
       "3  2008-12-04   Albury          NE         SE          E        No   \n",
       "4  2008-12-05   Albury           W        ENE         NW        No   \n",
       "\n",
       "  RainTomorrow  \n",
       "0           No  \n",
       "1           No  \n",
       "2           No  \n",
       "3           No  \n",
       "4           No  "
      ]
     },
     "execution_count": 9,
     "metadata": {},
     "output_type": "execute_result"
    }
   ],
   "source": [
    "df_cate = df[categoricas]\n",
    "\n",
    "df_cate.head()"
   ]
  },
  {
   "cell_type": "code",
   "execution_count": 10,
   "metadata": {},
   "outputs": [
    {
     "name": "stdout",
     "output_type": "stream",
     "text": [
      "Dimesiones: 145460 filas, 7 columnas\n",
      "Total de Valores NAN: 31648\n",
      "                          Nombre Columna  Tipo Dato     #Unicos Cant Valores NAN\n",
      "                                    Date     object        3436          0\n",
      "                                Location     object          49          0\n",
      "                             WindGustDir     object          16      10326\n",
      "                              WindDir9am     object          16      10566\n",
      "                              WindDir3pm     object          16       4228\n",
      "                               RainToday     object           2       3261\n",
      "                            RainTomorrow     object           2       3267\n"
     ]
    }
   ],
   "source": [
    "datos_NAN(df_cate)"
   ]
  },
  {
   "cell_type": "code",
   "execution_count": 11,
   "metadata": {},
   "outputs": [
    {
     "data": {
      "text/plain": [
       "Date                0\n",
       "Location            0\n",
       "WindGustDir     10326\n",
       "WindDir9am      10566\n",
       "WindDir3pm       4228\n",
       "RainToday        3261\n",
       "RainTomorrow     3267\n",
       "dtype: int64"
      ]
     },
     "execution_count": 11,
     "metadata": {},
     "output_type": "execute_result"
    }
   ],
   "source": [
    "df_cate[categoricas].isnull().sum()"
   ]
  },
  {
   "cell_type": "code",
   "execution_count": 12,
   "metadata": {},
   "outputs": [
    {
     "name": "stdout",
     "output_type": "stream",
     "text": [
      "Dimesiones: 145460 filas, 7 columnas\n",
      "Total de Valores NAN: 31648\n",
      "                          Nombre Columna  Tipo Dato     #Unicos Cant Valores NAN\n",
      "                                    Date     object        3436          0\n",
      "                                Location     object          49          0\n",
      "                             WindGustDir     object          16      10326\n",
      "                              WindDir9am     object          16      10566\n",
      "                              WindDir3pm     object          16       4228\n",
      "                               RainToday     object           2       3261\n",
      "                            RainTomorrow     object           2       3267\n"
     ]
    }
   ],
   "source": [
    "datos_NAN(df_cate)"
   ]
  },
  {
   "attachments": {},
   "cell_type": "markdown",
   "metadata": {},
   "source": [
    "## Vamos a sacar los conteos de datos NAN sin los valores de cero"
   ]
  },
  {
   "cell_type": "code",
   "execution_count": 13,
   "metadata": {},
   "outputs": [
    {
     "name": "stdout",
     "output_type": "stream",
     "text": [
      "WindGustDir     10326\n",
      "WindDir9am      10566\n",
      "WindDir3pm       4228\n",
      "RainToday        3261\n",
      "RainTomorrow     3267\n",
      "dtype: int64\n"
     ]
    }
   ],
   "source": [
    "## Vamos a sacar los conteos de datos NAN sin los valores de cero\n",
    "cat1 = [i for i in categoricas if df[i].isnull().sum()!= 0]\n",
    "print(df[cat1].isnull().sum())"
   ]
  },
  {
   "attachments": {},
   "cell_type": "markdown",
   "metadata": {},
   "source": [
    "## Revisar las etiquetas u opciones de las variables"
   ]
  },
  {
   "cell_type": "code",
   "execution_count": 14,
   "metadata": {},
   "outputs": [
    {
     "name": "stdout",
     "output_type": "stream",
     "text": [
      "Date contiene 3436 Etiquetas\n",
      "Location contiene 49 Etiquetas\n",
      "WindGustDir contiene 17 Etiquetas\n",
      "WindDir9am contiene 17 Etiquetas\n",
      "WindDir3pm contiene 17 Etiquetas\n",
      "RainToday contiene 3 Etiquetas\n",
      "RainTomorrow contiene 3 Etiquetas\n"
     ]
    }
   ],
   "source": [
    "##Revisar las etiquetas u opciones de las variables\n",
    "for i in categoricas:\n",
    "    print(i, 'contiene', len(df[i].unique()),'Etiquetas')"
   ]
  },
  {
   "attachments": {},
   "cell_type": "markdown",
   "metadata": {},
   "source": [
    "## Vamos a limpiar la data"
   ]
  },
  {
   "attachments": {},
   "cell_type": "markdown",
   "metadata": {},
   "source": [
    "### Para esto primero vamos a categorizar la fecha por dia, mes y año"
   ]
  },
  {
   "cell_type": "code",
   "execution_count": 15,
   "metadata": {},
   "outputs": [],
   "source": [
    "df_date_ = pd.DataFrame()"
   ]
  },
  {
   "cell_type": "code",
   "execution_count": 16,
   "metadata": {},
   "outputs": [],
   "source": [
    "##categorica la fecha - Date\n",
    "\n",
    "df_date_['Date'] = pd.to_datetime(df_cate['Date'])"
   ]
  },
  {
   "cell_type": "code",
   "execution_count": 17,
   "metadata": {},
   "outputs": [
    {
     "data": {
      "text/plain": [
       "0         2008\n",
       "1         2008\n",
       "2         2008\n",
       "3         2008\n",
       "4         2008\n",
       "          ... \n",
       "145455    2017\n",
       "145456    2017\n",
       "145457    2017\n",
       "145458    2017\n",
       "145459    2017\n",
       "Name: Year, Length: 145460, dtype: int64"
      ]
     },
     "execution_count": 17,
     "metadata": {},
     "output_type": "execute_result"
    }
   ],
   "source": [
    "###Extraer el año a una columna\n",
    "df_cate['Year'] = df_date_['Date'].dt.year\n",
    "\n",
    "df_cate['Year']\n",
    "\n"
   ]
  },
  {
   "cell_type": "code",
   "execution_count": 18,
   "metadata": {},
   "outputs": [
    {
     "data": {
      "text/plain": [
       "0         12\n",
       "1         12\n",
       "2         12\n",
       "3         12\n",
       "4         12\n",
       "          ..\n",
       "145455     6\n",
       "145456     6\n",
       "145457     6\n",
       "145458     6\n",
       "145459     6\n",
       "Name: Month, Length: 145460, dtype: int64"
      ]
     },
     "execution_count": 18,
     "metadata": {},
     "output_type": "execute_result"
    }
   ],
   "source": [
    "###Extracción de mes\n",
    "df_cate['Month'] = df_date_['Date'].dt.month\n",
    "\n",
    "df_cate['Month']"
   ]
  },
  {
   "cell_type": "code",
   "execution_count": 19,
   "metadata": {},
   "outputs": [
    {
     "data": {
      "text/plain": [
       "0          1\n",
       "1          2\n",
       "2          3\n",
       "3          4\n",
       "4          5\n",
       "          ..\n",
       "145455    21\n",
       "145456    22\n",
       "145457    23\n",
       "145458    24\n",
       "145459    25\n",
       "Name: Day, Length: 145460, dtype: int64"
      ]
     },
     "execution_count": 19,
     "metadata": {},
     "output_type": "execute_result"
    }
   ],
   "source": [
    "###Extracción de dia\n",
    "df_cate['Day'] = df_date_['Date'].dt.day\n",
    "\n",
    "df_cate['Day']\n",
    "\n"
   ]
  },
  {
   "cell_type": "code",
   "execution_count": 20,
   "metadata": {},
   "outputs": [],
   "source": [
    "##Eliminar la fecha normal\n",
    "df_cate.drop('Date', axis=1, inplace=True)"
   ]
  },
  {
   "cell_type": "code",
   "execution_count": 21,
   "metadata": {},
   "outputs": [
    {
     "name": "stdout",
     "output_type": "stream",
     "text": [
      "Dimesiones: 145460 filas, 9 columnas\n",
      "Total de Valores NAN: 31648\n",
      "                          Nombre Columna  Tipo Dato     #Unicos Cant Valores NAN\n",
      "                                Location     object          49          0\n",
      "                             WindGustDir     object          16      10326\n",
      "                              WindDir9am     object          16      10566\n",
      "                              WindDir3pm     object          16       4228\n",
      "                               RainToday     object           2       3261\n",
      "                            RainTomorrow     object           2       3267\n",
      "                                    Year      int64          11          0\n",
      "                                   Month      int64          12          0\n",
      "                                     Day      int64          31          0\n"
     ]
    }
   ],
   "source": [
    "datos_NAN(df_cate)"
   ]
  },
  {
   "cell_type": "code",
   "execution_count": 22,
   "metadata": {},
   "outputs": [],
   "source": [
    "# Seleccionar las tres columnas\n",
    "df_fecha = df_cate[['Year', 'Month', 'Day']]\n",
    "\n",
    "# Eliminar las columnas del dataframe original\n",
    "df_cate.drop(columns=['Year', 'Month', 'Day'], inplace=True)"
   ]
  },
  {
   "cell_type": "code",
   "execution_count": 23,
   "metadata": {},
   "outputs": [
    {
     "name": "stdout",
     "output_type": "stream",
     "text": [
      "Dimesiones: 145460 filas, 6 columnas\n",
      "Total de Valores NAN: 31648\n",
      "                          Nombre Columna  Tipo Dato     #Unicos Cant Valores NAN\n",
      "                                Location     object          49          0\n",
      "                             WindGustDir     object          16      10326\n",
      "                              WindDir9am     object          16      10566\n",
      "                              WindDir3pm     object          16       4228\n",
      "                               RainToday     object           2       3261\n",
      "                            RainTomorrow     object           2       3267\n"
     ]
    }
   ],
   "source": [
    "datos_NAN(df_cate)"
   ]
  },
  {
   "attachments": {},
   "cell_type": "markdown",
   "metadata": {},
   "source": [
    "## Eliminar datos NaN o imputar datos con la moda"
   ]
  },
  {
   "cell_type": "code",
   "execution_count": 24,
   "metadata": {},
   "outputs": [],
   "source": [
    "df_cate['WindGustDir'] = imputacionCatNA(df_cate, 'WindGustDir')"
   ]
  },
  {
   "cell_type": "code",
   "execution_count": 25,
   "metadata": {},
   "outputs": [],
   "source": [
    "df_cate['WindDir9am'] = imputacionCatNA(df_cate, 'WindDir9am')"
   ]
  },
  {
   "cell_type": "code",
   "execution_count": 26,
   "metadata": {},
   "outputs": [],
   "source": [
    "df_cate['WindDir3pm'] = imputacionCatNA(df_cate, 'WindDir3pm')"
   ]
  },
  {
   "cell_type": "code",
   "execution_count": 27,
   "metadata": {},
   "outputs": [],
   "source": [
    "df_cate['RainToday'] = imputacionCatNA(df_cate, 'RainToday')"
   ]
  },
  {
   "cell_type": "code",
   "execution_count": 28,
   "metadata": {},
   "outputs": [],
   "source": [
    "df_cate['RainTomorrow'] = imputacionCatNA(df_cate, 'RainTomorrow')"
   ]
  },
  {
   "cell_type": "code",
   "execution_count": 29,
   "metadata": {},
   "outputs": [
    {
     "name": "stdout",
     "output_type": "stream",
     "text": [
      "Dimesiones: 145460 filas, 6 columnas\n",
      "Total de Valores NAN: 0\n",
      "                          Nombre Columna  Tipo Dato     #Unicos Cant Valores NAN\n",
      "                                Location     object          49          0\n",
      "                             WindGustDir     object          16          0\n",
      "                              WindDir9am     object          16          0\n",
      "                              WindDir3pm     object          16          0\n",
      "                               RainToday     object           2          0\n",
      "                            RainTomorrow     object           2          0\n"
     ]
    }
   ],
   "source": [
    "datos_NAN(df_cate)"
   ]
  },
  {
   "attachments": {},
   "cell_type": "markdown",
   "metadata": {},
   "source": [
    "## **Tarea 1: Agregar las variables dummies al df original y eliminar la columna de base**"
   ]
  },
  {
   "cell_type": "code",
   "execution_count": 30,
   "metadata": {},
   "outputs": [],
   "source": [
    "df_dum = pd.DataFrame()"
   ]
  },
  {
   "cell_type": "code",
   "execution_count": 31,
   "metadata": {},
   "outputs": [],
   "source": [
    "##Variables dummies de Location\n",
    "df_dum = df_cate\n"
   ]
  },
  {
   "cell_type": "code",
   "execution_count": 32,
   "metadata": {},
   "outputs": [],
   "source": [
    "# pd.get_dummies(df_dum.Location, drop_first=True)"
   ]
  },
  {
   "attachments": {},
   "cell_type": "markdown",
   "metadata": {},
   "source": [
    "## Vamos a recategorizar"
   ]
  },
  {
   "cell_type": "code",
   "execution_count": 33,
   "metadata": {},
   "outputs": [],
   "source": [
    "nombres_columnas = {\n",
    "    'W': 'Oeste',\n",
    "    'WNW': 'NorOeste',\n",
    "    'WSW': 'SurOeste',\n",
    "    'NE': 'NorEste',\n",
    "    'NNW': 'NorOeste',\n",
    "    'N': 'Norte',\n",
    "    'NNE': 'NorEste',\n",
    "    'SW': 'SurOeste',\n",
    "    'ENE': 'NorEste',\n",
    "    'SSE': 'SurEste',\n",
    "    'S': 'Sur',\n",
    "    'NW': 'NorOeste',\n",
    "    'SE': 'SurEste',\n",
    "    'ESE': 'SurEste',\n",
    "    'E': 'Este',\n",
    "    'SSW': 'SurOeste',\n",
    "\n",
    "}\n",
    "\n",
    "wind_columns = ['WindGustDir', 'WindDir9am', 'WindDir3pm']\n",
    "\n",
    "for col in wind_columns:\n",
    "    df_dum[col] = df_dum[col].replace(nombres_columnas)\n"
   ]
  },
  {
   "cell_type": "code",
   "execution_count": 34,
   "metadata": {},
   "outputs": [
    {
     "name": "stdout",
     "output_type": "stream",
     "text": [
      "['Oeste' 'NorOeste' 'SurOeste' 'NorEste' 'Norte' 'SurEste' 'Sur' 'Este']\n"
     ]
    }
   ],
   "source": [
    "print(df_dum['WindGustDir'].unique())"
   ]
  },
  {
   "cell_type": "code",
   "execution_count": 35,
   "metadata": {},
   "outputs": [
    {
     "name": "stdout",
     "output_type": "stream",
     "text": [
      "['Oeste' 'NorOeste' 'SurEste' 'NorEste' 'SurOeste' 'Sur' 'Norte' 'Este']\n"
     ]
    }
   ],
   "source": [
    "print(df_dum['WindDir9am'].unique())"
   ]
  },
  {
   "cell_type": "code",
   "execution_count": 36,
   "metadata": {},
   "outputs": [
    {
     "name": "stdout",
     "output_type": "stream",
     "text": [
      "['NorOeste' 'SurOeste' 'Este' 'Oeste' 'SurEste' 'NorEste' 'Norte' 'Sur']\n"
     ]
    }
   ],
   "source": [
    "print(df_dum['WindDir3pm'].unique())"
   ]
  },
  {
   "attachments": {},
   "cell_type": "markdown",
   "metadata": {},
   "source": [
    "## Vamos hacer dummies a las variables"
   ]
  },
  {
   "cell_type": "code",
   "execution_count": 37,
   "metadata": {},
   "outputs": [
    {
     "name": "stdout",
     "output_type": "stream",
     "text": [
      "Dimesiones: 145460 filas, 75 columnas\n",
      "Total de Valores NAN: 0\n",
      "                          Nombre Columna  Tipo Dato     #Unicos Cant Valores NAN\n",
      "                               RainToday      int32           2          0\n",
      "                            RainTomorrow      int32           2          0\n",
      "                       Location_Adelaide      uint8           2          0\n",
      "                         Location_Albany      uint8           2          0\n",
      "                         Location_Albury      uint8           2          0\n",
      "                   Location_AliceSprings      uint8           2          0\n",
      "                  Location_BadgerysCreek      uint8           2          0\n",
      "                       Location_Ballarat      uint8           2          0\n",
      "                        Location_Bendigo      uint8           2          0\n",
      "                       Location_Brisbane      uint8           2          0\n",
      "                         Location_Cairns      uint8           2          0\n",
      "                       Location_Canberra      uint8           2          0\n",
      "                          Location_Cobar      uint8           2          0\n",
      "                   Location_CoffsHarbour      uint8           2          0\n",
      "                       Location_Dartmoor      uint8           2          0\n",
      "                         Location_Darwin      uint8           2          0\n",
      "                      Location_GoldCoast      uint8           2          0\n",
      "                         Location_Hobart      uint8           2          0\n",
      "                      Location_Katherine      uint8           2          0\n",
      "                     Location_Launceston      uint8           2          0\n",
      "                      Location_Melbourne      uint8           2          0\n",
      "               Location_MelbourneAirport      uint8           2          0\n",
      "                        Location_Mildura      uint8           2          0\n",
      "                          Location_Moree      uint8           2          0\n",
      "                   Location_MountGambier      uint8           2          0\n",
      "                    Location_MountGinini      uint8           2          0\n",
      "                      Location_Newcastle      uint8           2          0\n",
      "                           Location_Nhil      uint8           2          0\n",
      "                      Location_NorahHead      uint8           2          0\n",
      "                  Location_NorfolkIsland      uint8           2          0\n",
      "                      Location_Nuriootpa      uint8           2          0\n",
      "                     Location_PearceRAAF      uint8           2          0\n",
      "                        Location_Penrith      uint8           2          0\n",
      "                          Location_Perth      uint8           2          0\n",
      "                   Location_PerthAirport      uint8           2          0\n",
      "                       Location_Portland      uint8           2          0\n",
      "                       Location_Richmond      uint8           2          0\n",
      "                           Location_Sale      uint8           2          0\n",
      "                     Location_SalmonGums      uint8           2          0\n",
      "                         Location_Sydney      uint8           2          0\n",
      "                  Location_SydneyAirport      uint8           2          0\n",
      "                     Location_Townsville      uint8           2          0\n",
      "                    Location_Tuggeranong      uint8           2          0\n",
      "                          Location_Uluru      uint8           2          0\n",
      "                     Location_WaggaWagga      uint8           2          0\n",
      "                        Location_Walpole      uint8           2          0\n",
      "                       Location_Watsonia      uint8           2          0\n",
      "                    Location_Williamtown      uint8           2          0\n",
      "                    Location_Witchcliffe      uint8           2          0\n",
      "                     Location_Wollongong      uint8           2          0\n",
      "                        Location_Woomera      uint8           2          0\n",
      "                        WindGustDir_Este      uint8           2          0\n",
      "                     WindGustDir_NorEste      uint8           2          0\n",
      "                    WindGustDir_NorOeste      uint8           2          0\n",
      "                       WindGustDir_Norte      uint8           2          0\n",
      "                       WindGustDir_Oeste      uint8           2          0\n",
      "                         WindGustDir_Sur      uint8           2          0\n",
      "                     WindGustDir_SurEste      uint8           2          0\n",
      "                    WindGustDir_SurOeste      uint8           2          0\n",
      "                         WindDir9am_Este      uint8           2          0\n",
      "                      WindDir9am_NorEste      uint8           2          0\n",
      "                     WindDir9am_NorOeste      uint8           2          0\n",
      "                        WindDir9am_Norte      uint8           2          0\n",
      "                        WindDir9am_Oeste      uint8           2          0\n",
      "                          WindDir9am_Sur      uint8           2          0\n",
      "                      WindDir9am_SurEste      uint8           2          0\n",
      "                     WindDir9am_SurOeste      uint8           2          0\n",
      "                         WindDir3pm_Este      uint8           2          0\n",
      "                      WindDir3pm_NorEste      uint8           2          0\n",
      "                     WindDir3pm_NorOeste      uint8           2          0\n",
      "                        WindDir3pm_Norte      uint8           2          0\n",
      "                        WindDir3pm_Oeste      uint8           2          0\n",
      "                          WindDir3pm_Sur      uint8           2          0\n",
      "                      WindDir3pm_SurEste      uint8           2          0\n",
      "                     WindDir3pm_SurOeste      uint8           2          0\n"
     ]
    }
   ],
   "source": [
    "## Vamos a binarizar las variables categorias con solo 2 opciones y las demas con dummies\n",
    "### Lo vamos hacer con preprocessing de sklearn para el primer caso\n",
    "\n",
    "for col in df_dum.columns:\n",
    "    # Comprobar si la columna es categórica con 2 opciones\n",
    "    if df_dum[col].nunique() == 2:\n",
    "         binarizar(df_dum,col)\n",
    "    \n",
    "    else:\n",
    "        dummies = pd.get_dummies(df_dum[col], prefix=col)\n",
    "        df_dum = pd.concat([df_dum, dummies], axis=1)\n",
    "        df_dum.drop(col, axis=1, inplace=True)\n",
    "\n",
    "\n",
    "datos_NAN(df_dum)"
   ]
  },
  {
   "cell_type": "code",
   "execution_count": 38,
   "metadata": {},
   "outputs": [
    {
     "name": "stdout",
     "output_type": "stream",
     "text": [
      "[0 1]\n"
     ]
    }
   ],
   "source": [
    "print(df_dum['RainTomorrow'].unique())"
   ]
  },
  {
   "cell_type": "code",
   "execution_count": 39,
   "metadata": {},
   "outputs": [
    {
     "name": "stdout",
     "output_type": "stream",
     "text": [
      "['Oeste' 'NorOeste' 'SurOeste' 'NorEste' 'Norte' 'SurEste' 'Sur' 'Este']\n"
     ]
    }
   ],
   "source": [
    "print(df_cate['WindGustDir'].unique())"
   ]
  },
  {
   "cell_type": "code",
   "execution_count": 40,
   "metadata": {},
   "outputs": [
    {
     "name": "stdout",
     "output_type": "stream",
     "text": [
      "['Oeste' 'NorOeste' 'SurEste' 'NorEste' 'SurOeste' 'Sur' 'Norte' 'Este']\n"
     ]
    }
   ],
   "source": [
    "print(df_cate['WindDir9am'].unique())"
   ]
  },
  {
   "cell_type": "code",
   "execution_count": 41,
   "metadata": {},
   "outputs": [
    {
     "name": "stdout",
     "output_type": "stream",
     "text": [
      "['NorOeste' 'SurOeste' 'Este' 'Oeste' 'SurEste' 'NorEste' 'Norte' 'Sur']\n"
     ]
    }
   ],
   "source": [
    "print(df_cate['WindDir3pm'].unique())"
   ]
  },
  {
   "attachments": {},
   "cell_type": "markdown",
   "metadata": {},
   "source": [
    "## Vamos a concatenar nuestras variables dummies con el df_fecha y el df original"
   ]
  },
  {
   "cell_type": "code",
   "execution_count": 42,
   "metadata": {},
   "outputs": [
    {
     "name": "stdout",
     "output_type": "stream",
     "text": [
      "Hay 16 variables de tipo numerico\n",
      "Las variables categóricas son: ['MinTemp', 'MaxTemp', 'Rainfall', 'Evaporation', 'Sunshine', 'WindGustSpeed', 'WindSpeed9am', 'WindSpeed3pm', 'Humidity9am', 'Humidity3pm', 'Pressure9am', 'Pressure3pm', 'Cloud9am', 'Cloud3pm', 'Temp9am', 'Temp3pm']\n"
     ]
    }
   ],
   "source": [
    "##Categóricas y numéricas\n",
    "numericas = [i for i in df.columns if df[i].dtype!='O']\n",
    "\n",
    "print('Hay {} variables de tipo numerico'.format(len(numericas)))\n",
    "\n",
    "print('Las variables categóricas son:', numericas)"
   ]
  },
  {
   "cell_type": "code",
   "execution_count": 43,
   "metadata": {},
   "outputs": [],
   "source": [
    "df_numerico = df[numericas]"
   ]
  },
  {
   "cell_type": "code",
   "execution_count": 44,
   "metadata": {},
   "outputs": [],
   "source": [
    "df_f = pd.concat([df_dum, df_numerico], axis=1)"
   ]
  },
  {
   "cell_type": "code",
   "execution_count": 45,
   "metadata": {},
   "outputs": [],
   "source": [
    "df_f_f = pd.concat([df_f, df_fecha],axis=1)"
   ]
  }
 ],
 "metadata": {
  "kernelspec": {
   "display_name": "Python 3",
   "language": "python",
   "name": "python3"
  },
  "language_info": {
   "codemirror_mode": {
    "name": "ipython",
    "version": 3
   },
   "file_extension": ".py",
   "mimetype": "text/x-python",
   "name": "python",
   "nbconvert_exporter": "python",
   "pygments_lexer": "ipython3",
   "version": "3.10.2"
  },
  "orig_nbformat": 4
 },
 "nbformat": 4,
 "nbformat_minor": 2
}
