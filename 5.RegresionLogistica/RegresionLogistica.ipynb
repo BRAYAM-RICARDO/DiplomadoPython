{
 "cells": [
  {
   "attachments": {},
   "cell_type": "markdown",
   "metadata": {},
   "source": [
    "# Ejercicio de regresion logistica"
   ]
  },
  {
   "attachments": {},
   "cell_type": "markdown",
   "metadata": {},
   "source": [
    "## Importar librerias"
   ]
  },
  {
   "cell_type": "code",
   "execution_count": 474,
   "metadata": {},
   "outputs": [],
   "source": [
    "##Librerías\n",
    "import pandas as pd\n",
    "import numpy as np\n",
    "import matplotlib.pyplot as plt\n",
    "import seaborn as sns\n",
    "\n",
    "import warnings\n",
    "warnings.filterwarnings('ignore')"
   ]
  },
  {
   "cell_type": "code",
   "execution_count": 475,
   "metadata": {},
   "outputs": [],
   "source": [
    "from sklearn import preprocessing"
   ]
  },
  {
   "cell_type": "code",
   "execution_count": 476,
   "metadata": {},
   "outputs": [],
   "source": [
    "\n",
    "from sklearn.model_selection import train_test_split"
   ]
  },
  {
   "cell_type": "code",
   "execution_count": 477,
   "metadata": {},
   "outputs": [],
   "source": [
    "from sklearn.preprocessing import MinMaxScaler"
   ]
  },
  {
   "attachments": {},
   "cell_type": "markdown",
   "metadata": {},
   "source": [
    "## Funciones"
   ]
  },
  {
   "cell_type": "code",
   "execution_count": 478,
   "metadata": {},
   "outputs": [],
   "source": [
    "def datos_NAN(df):\n",
    "    if isinstance(df, pd.DataFrame):\n",
    "        total_na = df.isna().sum().sum()\n",
    "        print(\"Dimesiones: %d filas, %d columnas\" % (df.shape[0], df.shape[1]))\n",
    "        print(\"Total de Valores NAN: %d\" % (total_na))\n",
    "        print(\"%40s %10s  %10s %10s\" % (\"Nombre Columna\", \"Tipo Dato\", \"#Unicos\", \"Cant Valores NAN\"))\n",
    "        col_name = df.columns\n",
    "        dtyp = df.dtypes\n",
    "        uniq = df.nunique()\n",
    "        na_val = df.isna().sum()\n",
    "        for i in range(len(df.columns)):\n",
    "            print(\"%40s %10s  %10s %10s\" % (col_name[i], dtyp[i], uniq[i], na_val[i]))\n",
    "    else:\n",
    "        print(\"Se esperaba un dataframe: %15s\" % (type(df)))"
   ]
  },
  {
   "cell_type": "code",
   "execution_count": 479,
   "metadata": {},
   "outputs": [],
   "source": [
    "##FUncion reemplazo de datos categóricos NAN\n",
    "def imputacionCatNA(df, nomCol):\n",
    "    df[nomCol] = df[nomCol].fillna(df[nomCol].mode()[0])\n",
    "    return df[nomCol]"
   ]
  },
  {
   "cell_type": "code",
   "execution_count": 480,
   "metadata": {},
   "outputs": [],
   "source": [
    "## Funcion para binarizar datos categoricos de solo dos opciones\n",
    "def binarizar(df,nomCol):\n",
    "    label_e = preprocessing.LabelEncoder()\n",
    "    df[nomCol] = label_e.fit_transform(df[nomCol])\n",
    "    return df"
   ]
  },
  {
   "attachments": {},
   "cell_type": "markdown",
   "metadata": {},
   "source": [
    "## Importar Dataset"
   ]
  },
  {
   "cell_type": "code",
   "execution_count": 481,
   "metadata": {},
   "outputs": [],
   "source": [
    "url = \"https://raw.githubusercontent.com/jaquimbayoc8/DiplomadoMLA2023/main/5.RegresionLogistica/Dataset/weatherAUS.csv\"\n",
    "df = pd.read_csv(url)"
   ]
  },
  {
   "attachments": {},
   "cell_type": "markdown",
   "metadata": {},
   "source": [
    "## Extracion de datos\n"
   ]
  },
  {
   "cell_type": "code",
   "execution_count": 482,
   "metadata": {},
   "outputs": [
    {
     "name": "stdout",
     "output_type": "stream",
     "text": [
      "Index(['Date', 'Location', 'MinTemp', 'MaxTemp', 'Rainfall', 'Evaporation',\n",
      "       'Sunshine', 'WindGustDir', 'WindGustSpeed', 'WindDir9am', 'WindDir3pm',\n",
      "       'WindSpeed9am', 'WindSpeed3pm', 'Humidity9am', 'Humidity3pm',\n",
      "       'Pressure9am', 'Pressure3pm', 'Cloud9am', 'Cloud3pm', 'Temp9am',\n",
      "       'Temp3pm', 'RainToday', 'RainTomorrow'],\n",
      "      dtype='object')\n"
     ]
    }
   ],
   "source": [
    "##Extraer los encabezados del dataframe\n",
    "enca = df.columns\n",
    "print(enca)"
   ]
  },
  {
   "cell_type": "code",
   "execution_count": 483,
   "metadata": {},
   "outputs": [
    {
     "name": "stdout",
     "output_type": "stream",
     "text": [
      "Hay 7 variables de tipo categórico\n",
      "Las variables categóricas son: ['Date', 'Location', 'WindGustDir', 'WindDir9am', 'WindDir3pm', 'RainToday', 'RainTomorrow']\n"
     ]
    }
   ],
   "source": [
    "## Sacar las variables Categóricas\n",
    "categoricas = [i for i in df.columns if df[i].dtype=='O']\n",
    "\n",
    "print('Hay {} variables de tipo categórico'.format(len(categoricas)))\n",
    "\n",
    "print('Las variables categóricas son:', categoricas)"
   ]
  },
  {
   "attachments": {},
   "cell_type": "markdown",
   "metadata": {},
   "source": [
    "## Observacion de datos"
   ]
  },
  {
   "cell_type": "code",
   "execution_count": 484,
   "metadata": {},
   "outputs": [
    {
     "data": {
      "text/html": [
       "<div>\n",
       "<style scoped>\n",
       "    .dataframe tbody tr th:only-of-type {\n",
       "        vertical-align: middle;\n",
       "    }\n",
       "\n",
       "    .dataframe tbody tr th {\n",
       "        vertical-align: top;\n",
       "    }\n",
       "\n",
       "    .dataframe thead th {\n",
       "        text-align: right;\n",
       "    }\n",
       "</style>\n",
       "<table border=\"1\" class=\"dataframe\">\n",
       "  <thead>\n",
       "    <tr style=\"text-align: right;\">\n",
       "      <th></th>\n",
       "      <th>Date</th>\n",
       "      <th>Location</th>\n",
       "      <th>WindGustDir</th>\n",
       "      <th>WindDir9am</th>\n",
       "      <th>WindDir3pm</th>\n",
       "      <th>RainToday</th>\n",
       "      <th>RainTomorrow</th>\n",
       "    </tr>\n",
       "  </thead>\n",
       "  <tbody>\n",
       "    <tr>\n",
       "      <th>0</th>\n",
       "      <td>2008-12-01</td>\n",
       "      <td>Albury</td>\n",
       "      <td>W</td>\n",
       "      <td>W</td>\n",
       "      <td>WNW</td>\n",
       "      <td>No</td>\n",
       "      <td>No</td>\n",
       "    </tr>\n",
       "    <tr>\n",
       "      <th>1</th>\n",
       "      <td>2008-12-02</td>\n",
       "      <td>Albury</td>\n",
       "      <td>WNW</td>\n",
       "      <td>NNW</td>\n",
       "      <td>WSW</td>\n",
       "      <td>No</td>\n",
       "      <td>No</td>\n",
       "    </tr>\n",
       "    <tr>\n",
       "      <th>2</th>\n",
       "      <td>2008-12-03</td>\n",
       "      <td>Albury</td>\n",
       "      <td>WSW</td>\n",
       "      <td>W</td>\n",
       "      <td>WSW</td>\n",
       "      <td>No</td>\n",
       "      <td>No</td>\n",
       "    </tr>\n",
       "    <tr>\n",
       "      <th>3</th>\n",
       "      <td>2008-12-04</td>\n",
       "      <td>Albury</td>\n",
       "      <td>NE</td>\n",
       "      <td>SE</td>\n",
       "      <td>E</td>\n",
       "      <td>No</td>\n",
       "      <td>No</td>\n",
       "    </tr>\n",
       "    <tr>\n",
       "      <th>4</th>\n",
       "      <td>2008-12-05</td>\n",
       "      <td>Albury</td>\n",
       "      <td>W</td>\n",
       "      <td>ENE</td>\n",
       "      <td>NW</td>\n",
       "      <td>No</td>\n",
       "      <td>No</td>\n",
       "    </tr>\n",
       "  </tbody>\n",
       "</table>\n",
       "</div>"
      ],
      "text/plain": [
       "         Date Location WindGustDir WindDir9am WindDir3pm RainToday  \\\n",
       "0  2008-12-01   Albury           W          W        WNW        No   \n",
       "1  2008-12-02   Albury         WNW        NNW        WSW        No   \n",
       "2  2008-12-03   Albury         WSW          W        WSW        No   \n",
       "3  2008-12-04   Albury          NE         SE          E        No   \n",
       "4  2008-12-05   Albury           W        ENE         NW        No   \n",
       "\n",
       "  RainTomorrow  \n",
       "0           No  \n",
       "1           No  \n",
       "2           No  \n",
       "3           No  \n",
       "4           No  "
      ]
     },
     "execution_count": 484,
     "metadata": {},
     "output_type": "execute_result"
    }
   ],
   "source": [
    "df_cate = df[categoricas]\n",
    "\n",
    "df_cate.head()"
   ]
  },
  {
   "cell_type": "code",
   "execution_count": 485,
   "metadata": {},
   "outputs": [
    {
     "name": "stdout",
     "output_type": "stream",
     "text": [
      "Dimesiones: 145460 filas, 7 columnas\n",
      "Total de Valores NAN: 31648\n",
      "                          Nombre Columna  Tipo Dato     #Unicos Cant Valores NAN\n",
      "                                    Date     object        3436          0\n",
      "                                Location     object          49          0\n",
      "                             WindGustDir     object          16      10326\n",
      "                              WindDir9am     object          16      10566\n",
      "                              WindDir3pm     object          16       4228\n",
      "                               RainToday     object           2       3261\n",
      "                            RainTomorrow     object           2       3267\n"
     ]
    }
   ],
   "source": [
    "datos_NAN(df_cate)"
   ]
  },
  {
   "cell_type": "code",
   "execution_count": 486,
   "metadata": {},
   "outputs": [
    {
     "data": {
      "text/plain": [
       "Date                0\n",
       "Location            0\n",
       "WindGustDir     10326\n",
       "WindDir9am      10566\n",
       "WindDir3pm       4228\n",
       "RainToday        3261\n",
       "RainTomorrow     3267\n",
       "dtype: int64"
      ]
     },
     "execution_count": 486,
     "metadata": {},
     "output_type": "execute_result"
    }
   ],
   "source": [
    "df_cate[categoricas].isnull().sum()  ## Conteo de valores Nulos o NaN"
   ]
  },
  {
   "cell_type": "code",
   "execution_count": 487,
   "metadata": {},
   "outputs": [
    {
     "name": "stdout",
     "output_type": "stream",
     "text": [
      "Dimesiones: 145460 filas, 7 columnas\n",
      "Total de Valores NAN: 31648\n",
      "                          Nombre Columna  Tipo Dato     #Unicos Cant Valores NAN\n",
      "                                    Date     object        3436          0\n",
      "                                Location     object          49          0\n",
      "                             WindGustDir     object          16      10326\n",
      "                              WindDir9am     object          16      10566\n",
      "                              WindDir3pm     object          16       4228\n",
      "                               RainToday     object           2       3261\n",
      "                            RainTomorrow     object           2       3267\n"
     ]
    }
   ],
   "source": [
    "datos_NAN(df_cate)"
   ]
  },
  {
   "attachments": {},
   "cell_type": "markdown",
   "metadata": {},
   "source": [
    "### Vamos a sacar los conteos de datos NAN sin los valores de cero"
   ]
  },
  {
   "cell_type": "code",
   "execution_count": 488,
   "metadata": {},
   "outputs": [
    {
     "name": "stdout",
     "output_type": "stream",
     "text": [
      "WindGustDir     10326\n",
      "WindDir9am      10566\n",
      "WindDir3pm       4228\n",
      "RainToday        3261\n",
      "RainTomorrow     3267\n",
      "dtype: int64\n"
     ]
    }
   ],
   "source": [
    "## Vamos a sacar los conteos de datos NAN sin los valores de cero\n",
    "cat1 = [i for i in categoricas if df[i].isnull().sum()!= 0]\n",
    "print(df[cat1].isnull().sum())"
   ]
  },
  {
   "attachments": {},
   "cell_type": "markdown",
   "metadata": {},
   "source": [
    "### Revisar las etiquetas u opciones de las variables"
   ]
  },
  {
   "cell_type": "code",
   "execution_count": 489,
   "metadata": {},
   "outputs": [
    {
     "name": "stdout",
     "output_type": "stream",
     "text": [
      "Date contiene 3436 Etiquetas\n",
      "Location contiene 49 Etiquetas\n",
      "WindGustDir contiene 17 Etiquetas\n",
      "WindDir9am contiene 17 Etiquetas\n",
      "WindDir3pm contiene 17 Etiquetas\n",
      "RainToday contiene 3 Etiquetas\n",
      "RainTomorrow contiene 3 Etiquetas\n"
     ]
    }
   ],
   "source": [
    "##Revisar las etiquetas u opciones de las variables\n",
    "for i in categoricas:\n",
    "    print(i, 'contiene', len(df[i].unique()),'Etiquetas')"
   ]
  },
  {
   "attachments": {},
   "cell_type": "markdown",
   "metadata": {},
   "source": [
    "### Podemos observar caracteristicas importantes como la cantidad de etiquetas,tipo de dato, nombre columna y la cantidad de tipos NaN, osea que es una data 'Sucia'"
   ]
  },
  {
   "attachments": {},
   "cell_type": "markdown",
   "metadata": {},
   "source": [
    "## Vamos a limpiar la data"
   ]
  },
  {
   "attachments": {},
   "cell_type": "markdown",
   "metadata": {},
   "source": [
    "### Para esto primero vamos a categorizar la fecha por dia, mes y año"
   ]
  },
  {
   "cell_type": "code",
   "execution_count": 490,
   "metadata": {},
   "outputs": [],
   "source": [
    "df_date_ = pd.DataFrame()"
   ]
  },
  {
   "cell_type": "code",
   "execution_count": 491,
   "metadata": {},
   "outputs": [],
   "source": [
    "##categorica la fecha - Date\n",
    "\n",
    "df_date_['Date'] = pd.to_datetime(df_cate['Date'])"
   ]
  },
  {
   "cell_type": "code",
   "execution_count": 492,
   "metadata": {},
   "outputs": [
    {
     "data": {
      "text/plain": [
       "0         2008\n",
       "1         2008\n",
       "2         2008\n",
       "3         2008\n",
       "4         2008\n",
       "          ... \n",
       "145455    2017\n",
       "145456    2017\n",
       "145457    2017\n",
       "145458    2017\n",
       "145459    2017\n",
       "Name: Year, Length: 145460, dtype: int64"
      ]
     },
     "execution_count": 492,
     "metadata": {},
     "output_type": "execute_result"
    }
   ],
   "source": [
    "###Extraer el año a una columna\n",
    "df_cate['Year'] = df_date_['Date'].dt.year\n",
    "\n",
    "df_cate['Year']\n",
    "\n"
   ]
  },
  {
   "cell_type": "code",
   "execution_count": 493,
   "metadata": {},
   "outputs": [
    {
     "data": {
      "text/plain": [
       "0         12\n",
       "1         12\n",
       "2         12\n",
       "3         12\n",
       "4         12\n",
       "          ..\n",
       "145455     6\n",
       "145456     6\n",
       "145457     6\n",
       "145458     6\n",
       "145459     6\n",
       "Name: Month, Length: 145460, dtype: int64"
      ]
     },
     "execution_count": 493,
     "metadata": {},
     "output_type": "execute_result"
    }
   ],
   "source": [
    "###Extracción de mes\n",
    "df_cate['Month'] = df_date_['Date'].dt.month\n",
    "\n",
    "df_cate['Month']"
   ]
  },
  {
   "cell_type": "code",
   "execution_count": 494,
   "metadata": {},
   "outputs": [
    {
     "data": {
      "text/plain": [
       "0          1\n",
       "1          2\n",
       "2          3\n",
       "3          4\n",
       "4          5\n",
       "          ..\n",
       "145455    21\n",
       "145456    22\n",
       "145457    23\n",
       "145458    24\n",
       "145459    25\n",
       "Name: Day, Length: 145460, dtype: int64"
      ]
     },
     "execution_count": 494,
     "metadata": {},
     "output_type": "execute_result"
    }
   ],
   "source": [
    "###Extracción de dia\n",
    "df_cate['Day'] = df_date_['Date'].dt.day\n",
    "\n",
    "df_cate['Day']\n",
    "\n"
   ]
  },
  {
   "cell_type": "code",
   "execution_count": 495,
   "metadata": {},
   "outputs": [],
   "source": [
    "##Eliminar la fecha normal\n",
    "df_cate.drop('Date', axis=1, inplace=True)"
   ]
  },
  {
   "attachments": {},
   "cell_type": "markdown",
   "metadata": {},
   "source": [
    "### Eliminar las columnas de Date , Year, Month y Day"
   ]
  },
  {
   "cell_type": "code",
   "execution_count": 496,
   "metadata": {},
   "outputs": [
    {
     "name": "stdout",
     "output_type": "stream",
     "text": [
      "Dimesiones: 145460 filas, 9 columnas\n",
      "Total de Valores NAN: 31648\n",
      "                          Nombre Columna  Tipo Dato     #Unicos Cant Valores NAN\n",
      "                                Location     object          49          0\n",
      "                             WindGustDir     object          16      10326\n",
      "                              WindDir9am     object          16      10566\n",
      "                              WindDir3pm     object          16       4228\n",
      "                               RainToday     object           2       3261\n",
      "                            RainTomorrow     object           2       3267\n",
      "                                    Year      int64          11          0\n",
      "                                   Month      int64          12          0\n",
      "                                     Day      int64          31          0\n"
     ]
    }
   ],
   "source": [
    "datos_NAN(df_cate)"
   ]
  },
  {
   "cell_type": "code",
   "execution_count": 497,
   "metadata": {},
   "outputs": [],
   "source": [
    "# Seleccionar las tres columnas\n",
    "df_fecha = df_cate[['Year', 'Month', 'Day']]\n",
    "\n",
    "# Eliminar las columnas del dataframe original\n",
    "df_cate.drop(columns=['Year', 'Month', 'Day'], inplace=True)"
   ]
  },
  {
   "cell_type": "code",
   "execution_count": 498,
   "metadata": {},
   "outputs": [
    {
     "name": "stdout",
     "output_type": "stream",
     "text": [
      "Dimesiones: 145460 filas, 6 columnas\n",
      "Total de Valores NAN: 31648\n",
      "                          Nombre Columna  Tipo Dato     #Unicos Cant Valores NAN\n",
      "                                Location     object          49          0\n",
      "                             WindGustDir     object          16      10326\n",
      "                              WindDir9am     object          16      10566\n",
      "                              WindDir3pm     object          16       4228\n",
      "                               RainToday     object           2       3261\n",
      "                            RainTomorrow     object           2       3267\n"
     ]
    }
   ],
   "source": [
    "datos_NAN(df_cate)"
   ]
  },
  {
   "attachments": {},
   "cell_type": "markdown",
   "metadata": {},
   "source": [
    "## Eliminar datos NaN o imputar datos con la moda"
   ]
  },
  {
   "cell_type": "code",
   "execution_count": 499,
   "metadata": {},
   "outputs": [],
   "source": [
    "##categoricas2 = ['Location', 'WindGustDir', 'WindDir9am', 'WindDir3pm','RainToday','RainTomorrow']\n",
    "##for col in categoricas2:\n",
    "    ##moda = df_cate[col].mode()[0]\n",
    "    #df_cate[col].fillna(moda, inplace=True)\n"
   ]
  },
  {
   "cell_type": "code",
   "execution_count": 500,
   "metadata": {},
   "outputs": [
    {
     "name": "stdout",
     "output_type": "stream",
     "text": [
      "Dimesiones: 145460 filas, 6 columnas\n",
      "Total de Valores NAN: 31648\n",
      "                          Nombre Columna  Tipo Dato     #Unicos Cant Valores NAN\n",
      "                                Location     object          49          0\n",
      "                             WindGustDir     object          16      10326\n",
      "                              WindDir9am     object          16      10566\n",
      "                              WindDir3pm     object          16       4228\n",
      "                               RainToday     object           2       3261\n",
      "                            RainTomorrow     object           2       3267\n"
     ]
    }
   ],
   "source": [
    "datos_NAN(df_cate)"
   ]
  },
  {
   "attachments": {},
   "cell_type": "markdown",
   "metadata": {},
   "source": [
    "### Vemos como tenemos ya nuestra data limpia"
   ]
  },
  {
   "attachments": {},
   "cell_type": "markdown",
   "metadata": {},
   "source": [
    "## **Tarea 1: Agregar las variables dummies al df original y eliminar la columna de base**"
   ]
  },
  {
   "cell_type": "code",
   "execution_count": 501,
   "metadata": {},
   "outputs": [],
   "source": [
    "## Nuevo df\n",
    "df_dum = df_cate\n"
   ]
  },
  {
   "cell_type": "code",
   "execution_count": 502,
   "metadata": {},
   "outputs": [],
   "source": [
    "# pd.get_dummies(df_dum.Location, drop_first=True)"
   ]
  },
  {
   "attachments": {},
   "cell_type": "markdown",
   "metadata": {},
   "source": [
    "## Vamos a recategorizar"
   ]
  },
  {
   "cell_type": "code",
   "execution_count": 503,
   "metadata": {},
   "outputs": [],
   "source": [
    "nombres_columnas = {\n",
    "    'W': 'Oeste',\n",
    "    'WNW': 'NorOeste',\n",
    "    'WSW': 'SurOeste',\n",
    "    'NE': 'NorEste',\n",
    "    'NNW': 'NorOeste',\n",
    "    'N': 'Norte',\n",
    "    'NNE': 'NorEste',\n",
    "    'SW': 'SurOeste',\n",
    "    'ENE': 'NorEste',\n",
    "    'SSE': 'SurEste',\n",
    "    'S': 'Sur',\n",
    "    'NW': 'NorOeste',\n",
    "    'SE': 'SurEste',\n",
    "    'ESE': 'SurEste',\n",
    "    'E': 'Este',\n",
    "    'SSW': 'SurOeste',\n",
    "\n",
    "}\n",
    "\n",
    "wind_columns = ['WindGustDir', 'WindDir9am', 'WindDir3pm']\n",
    "\n",
    "for col in wind_columns:\n",
    "    df_dum[col] = df_dum[col].replace(nombres_columnas)\n"
   ]
  },
  {
   "cell_type": "code",
   "execution_count": 504,
   "metadata": {},
   "outputs": [
    {
     "name": "stdout",
     "output_type": "stream",
     "text": [
      "['Oeste' 'NorOeste' 'SurOeste' 'NorEste' 'Norte' nan 'SurEste' 'Sur'\n",
      " 'Este']\n"
     ]
    }
   ],
   "source": [
    "print(df_dum['WindGustDir'].unique())"
   ]
  },
  {
   "cell_type": "code",
   "execution_count": 505,
   "metadata": {},
   "outputs": [
    {
     "name": "stdout",
     "output_type": "stream",
     "text": [
      "['Oeste' 'NorOeste' 'SurEste' 'NorEste' 'SurOeste' 'Sur' nan 'Norte'\n",
      " 'Este']\n"
     ]
    }
   ],
   "source": [
    "print(df_dum['WindDir9am'].unique())"
   ]
  },
  {
   "cell_type": "code",
   "execution_count": 506,
   "metadata": {},
   "outputs": [
    {
     "name": "stdout",
     "output_type": "stream",
     "text": [
      "['NorOeste' 'SurOeste' 'Este' 'Oeste' 'SurEste' 'NorEste' 'Norte' 'Sur'\n",
      " nan]\n"
     ]
    }
   ],
   "source": [
    "print(df_dum['WindDir3pm'].unique())"
   ]
  },
  {
   "cell_type": "code",
   "execution_count": 507,
   "metadata": {},
   "outputs": [
    {
     "name": "stdout",
     "output_type": "stream",
     "text": [
      "Dimesiones: 145460 filas, 6 columnas\n",
      "Total de Valores NAN: 31648\n",
      "                          Nombre Columna  Tipo Dato     #Unicos Cant Valores NAN\n",
      "                                Location     object          49          0\n",
      "                             WindGustDir     object           8      10326\n",
      "                              WindDir9am     object           8      10566\n",
      "                              WindDir3pm     object           8       4228\n",
      "                               RainToday     object           2       3261\n",
      "                            RainTomorrow     object           2       3267\n"
     ]
    }
   ],
   "source": [
    "datos_NAN(df_dum)"
   ]
  },
  {
   "attachments": {},
   "cell_type": "markdown",
   "metadata": {},
   "source": [
    "## Vamos hacer dummies a las variables"
   ]
  },
  {
   "cell_type": "code",
   "execution_count": 508,
   "metadata": {},
   "outputs": [
    {
     "name": "stdout",
     "output_type": "stream",
     "text": [
      "Dimesiones: 145460 filas, 6 columnas\n",
      "Total de Valores NAN: 31648\n",
      "                          Nombre Columna  Tipo Dato     #Unicos Cant Valores NAN\n",
      "                                Location     object          49          0\n",
      "                             WindGustDir     object           8      10326\n",
      "                              WindDir9am     object           8      10566\n",
      "                              WindDir3pm     object           8       4228\n",
      "                               RainToday     object           2       3261\n",
      "                            RainTomorrow     object           2       3267\n"
     ]
    }
   ],
   "source": [
    "## Vamos a binarizar las variables categorias con solo 2 opciones y las demas con dummies\n",
    "### Lo vamos hacer con preprocessing de sklearn para el primer caso\n",
    "\n",
    "for col in df_dum.columns:\n",
    "    # Comprobar si la columna es categórica con 2 opciones\n",
    "    if df_dum[col].nunique() == 2:\n",
    "         pd.get_dummies(df_dum[col], drop_first=True)\n",
    "    \n",
    "    else:\n",
    "        pd.get_dummies(df_dum[col], drop_first=True, dummy_na=True)\n",
    "\n",
    "\n",
    "datos_NAN(df_dum)"
   ]
  },
  {
   "cell_type": "code",
   "execution_count": 509,
   "metadata": {},
   "outputs": [
    {
     "name": "stdout",
     "output_type": "stream",
     "text": [
      "['No' 'Yes' nan]\n"
     ]
    }
   ],
   "source": [
    "print(df_dum['RainTomorrow'].unique())"
   ]
  },
  {
   "cell_type": "code",
   "execution_count": 510,
   "metadata": {},
   "outputs": [
    {
     "name": "stdout",
     "output_type": "stream",
     "text": [
      "['No' 'Yes' nan]\n"
     ]
    }
   ],
   "source": [
    "print(df_cate['RainToday'].unique())"
   ]
  },
  {
   "cell_type": "code",
   "execution_count": 511,
   "metadata": {},
   "outputs": [
    {
     "name": "stdout",
     "output_type": "stream",
     "text": [
      "['No' 'Yes' nan]\n"
     ]
    }
   ],
   "source": [
    "print(df_dum['RainToday'].unique())"
   ]
  },
  {
   "attachments": {},
   "cell_type": "markdown",
   "metadata": {},
   "source": [
    "## Vamos a concatenar nuestras variables dummies con el df_fecha y el df original"
   ]
  },
  {
   "cell_type": "code",
   "execution_count": 512,
   "metadata": {},
   "outputs": [
    {
     "name": "stdout",
     "output_type": "stream",
     "text": [
      "Hay 16 variables de tipo numerico\n",
      "Las variables categóricas son: ['MinTemp', 'MaxTemp', 'Rainfall', 'Evaporation', 'Sunshine', 'WindGustSpeed', 'WindSpeed9am', 'WindSpeed3pm', 'Humidity9am', 'Humidity3pm', 'Pressure9am', 'Pressure3pm', 'Cloud9am', 'Cloud3pm', 'Temp9am', 'Temp3pm']\n"
     ]
    }
   ],
   "source": [
    "##Categóricas y numéricas\n",
    "numericas = [i for i in df.columns if df[i].dtype!='O']\n",
    "\n",
    "print('Hay {} variables de tipo numerico'.format(len(numericas)))\n",
    "\n",
    "print('Las variables categóricas son:', numericas)"
   ]
  },
  {
   "cell_type": "code",
   "execution_count": 513,
   "metadata": {},
   "outputs": [],
   "source": [
    "df_numerico = df[numericas]"
   ]
  },
  {
   "cell_type": "code",
   "execution_count": 514,
   "metadata": {},
   "outputs": [],
   "source": [
    "df_f = pd.concat([df_dum, df_numerico], axis=1)"
   ]
  },
  {
   "cell_type": "code",
   "execution_count": 515,
   "metadata": {},
   "outputs": [],
   "source": [
    "df_f_f = pd.concat([df_f, df_fecha],axis=1)"
   ]
  },
  {
   "cell_type": "code",
   "execution_count": 516,
   "metadata": {},
   "outputs": [
    {
     "data": {
      "text/plain": [
       "No     110319\n",
       "Yes     31880\n",
       "Name: RainToday, dtype: int64"
      ]
     },
     "execution_count": 516,
     "metadata": {},
     "output_type": "execute_result"
    }
   ],
   "source": [
    "##Rain today y rain tomorrow\n",
    "df_f_f['RainToday'].value_counts()"
   ]
  },
  {
   "attachments": {},
   "cell_type": "markdown",
   "metadata": {},
   "source": [
    "## Graficas"
   ]
  },
  {
   "cell_type": "code",
   "execution_count": 517,
   "metadata": {},
   "outputs": [
    {
     "data": {
      "text/plain": [
       "Text(0, 0.5, 'Cant Viento 3pm')"
      ]
     },
     "execution_count": 517,
     "metadata": {},
     "output_type": "execute_result"
    },
    {
     "data": {
      "image/png": "[encoded data removed]",
      "text/plain": [
       "<Figure size 1500x1000 with 4 Axes>"
      ]
     },
     "metadata": {},
     "output_type": "display_data"
    }
   ],
   "source": [
    "##Grafica para ver el ruido en los datos\n",
    "plt.figure(figsize=(15,10))\n",
    "\n",
    "plt.subplot(2,2,1)\n",
    "fig = df_f_f.boxplot(column='Rainfall')\n",
    "fig.set_title('Cantidad de Lluvia')\n",
    "fig.set_ylabel('Cant Lluvia')\n",
    "\n",
    "plt.subplot(2,2,2)\n",
    "fig = df_f_f.boxplot(column='Evaporation')\n",
    "fig.set_title('Cantidad de Evaporación')\n",
    "fig.set_ylabel('Cant Evaporación')\n",
    "\n",
    "plt.subplot(2,2,3)\n",
    "fig = df_f_f.boxplot(column='WindSpeed9am')\n",
    "fig.set_title('Cantidad de Viento 9am')\n",
    "fig.set_ylabel('Cant Viento')\n",
    "\n",
    "plt.subplot(2,2,4)\n",
    "fig = df_f_f.boxplot(column='WindSpeed3pm')\n",
    "fig.set_title('Cantidad de Viento 3pm')\n",
    "fig.set_ylabel('Cant Viento 3pm')"
   ]
  },
  {
   "cell_type": "code",
   "execution_count": 518,
   "metadata": {},
   "outputs": [
    {
     "data": {
      "text/plain": [
       "Text(0, 0.5, 'Llover Mañana')"
      ]
     },
     "execution_count": 518,
     "metadata": {},
     "output_type": "execute_result"
    },
    {
     "data": {
      "image/png": "[encoded data removed]",
      "text/plain": [
       "<Figure size 1500x1000 with 4 Axes>"
      ]
     },
     "metadata": {},
     "output_type": "display_data"
    }
   ],
   "source": [
    "##Ver distribución de variables\n",
    "plt.figure(figsize=(15,10))\n",
    "\n",
    "plt.subplot(2,2,1)\n",
    "fig = df_f_f.Rainfall.hist(bins=10)\n",
    "fig.set_xlabel('Cantidad de Lluvia')\n",
    "fig.set_ylabel('Llover Mañana')\n",
    "\n",
    "plt.subplot(2,2,2)\n",
    "fig = df_f_f.Evaporation.hist(bins=10)\n",
    "fig.set_xlabel('Cantidad de Evaporación')\n",
    "fig.set_ylabel('Llover Mañana')\n",
    "\n",
    "plt.subplot(2,2,3)\n",
    "fig = df_f_f.WindSpeed9am.hist(bins=10)\n",
    "fig.set_xlabel('Cantidad de WindSpeed9am')\n",
    "fig.set_ylabel('Llover Mañana')\n",
    "\n",
    "\n",
    "plt.subplot(2,2,4)\n",
    "fig = df_f_f.WindSpeed3pm.hist(bins=10)\n",
    "fig.set_xlabel('Cantidad de WindSpeed3pm')\n",
    "fig.set_ylabel('Llover Mañana')"
   ]
  },
  {
   "cell_type": "code",
   "execution_count": 519,
   "metadata": {},
   "outputs": [
    {
     "name": "stdout",
     "output_type": "stream",
     "text": [
      "Rainfall el ruido esta entre los valores -2.4000000000000004 y 3.2\n",
      "El rango IQR es: 0.8\n"
     ]
    }
   ],
   "source": [
    "##Rango del ruido de esas variable numéricas - rango intercuantilico\n",
    "IQR1 = df_f_f.Rainfall.quantile(0.75)- df.Rainfall.quantile(0.25)\n",
    "puntomin = df_f_f.Rainfall.quantile(0.25) - (IQR1*3)\n",
    "puntomax = df_f_f.Rainfall.quantile(0.75) + (IQR1*3)\n",
    "\n",
    "print('Rainfall el ruido esta entre los valores {} y {}'.format(puntomin, puntomax))\n",
    "print('El rango IQR es:', IQR1)\n",
    "##El ruido arranca desde >3.2"
   ]
  },
  {
   "cell_type": "code",
   "execution_count": 520,
   "metadata": {},
   "outputs": [
    {
     "name": "stdout",
     "output_type": "stream",
     "text": [
      "Evaporation el ruido esta entre los valores -11.800000000000002 y 21.800000000000004\n",
      "El rango IQR es: 4.800000000000001\n"
     ]
    }
   ],
   "source": [
    "IQR2 = df_f_f.Evaporation.quantile(0.75)- df.Evaporation.quantile(0.25)\n",
    "puntomin = df_f_f.Evaporation.quantile(0.25) - (IQR2*3)\n",
    "puntomax = df_f_f.Evaporation.quantile(0.75) + (IQR2*3)\n",
    "\n",
    "print('Evaporation el ruido esta entre los valores {} y {}'.format(puntomin, puntomax))\n",
    "print('El rango IQR es:', IQR2)"
   ]
  },
  {
   "cell_type": "code",
   "execution_count": 521,
   "metadata": {},
   "outputs": [
    {
     "name": "stdout",
     "output_type": "stream",
     "text": [
      "WindSpeed9am el ruido esta entre los valores -29.0 y 55.0\n",
      "El rango IQR es: 12.0\n"
     ]
    }
   ],
   "source": [
    "IQR3 = df_f_f.WindSpeed9am.quantile(0.75)- df.WindSpeed9am.quantile(0.25)\n",
    "puntomin = df_f_f.WindSpeed9am.quantile(0.25) - (IQR3*3)\n",
    "puntomax = df_f_f.WindSpeed9am.quantile(0.75) + (IQR3*3)\n",
    "\n",
    "print('WindSpeed9am el ruido esta entre los valores {} y {}'.format(puntomin, puntomax))\n",
    "print('El rango IQR es:', IQR3)"
   ]
  },
  {
   "cell_type": "code",
   "execution_count": 522,
   "metadata": {},
   "outputs": [
    {
     "name": "stdout",
     "output_type": "stream",
     "text": [
      "WindSpeed3pm el ruido esta entre los valores -20.0 y 57.0\n",
      "El rango IQR es: 11.0\n"
     ]
    }
   ],
   "source": [
    "IQR4 = df_f_f.WindSpeed3pm.quantile(0.75)- df.WindSpeed3pm.quantile(0.25)\n",
    "puntomin = df_f_f.WindSpeed3pm.quantile(0.25) - (IQR4*3)\n",
    "puntomax = df_f_f.WindSpeed3pm.quantile(0.75) + (IQR4*3)\n",
    "\n",
    "##df['Age'] = np.where(df['Age']>57.0,IQR,df['Age'] )\n",
    "\n",
    "print('WindSpeed3pm el ruido esta entre los valores {} y {}'.format(puntomin, puntomax))\n",
    "print('El rango IQR es:', IQR4)"
   ]
  },
  {
   "cell_type": "code",
   "execution_count": 523,
   "metadata": {},
   "outputs": [
    {
     "name": "stdout",
     "output_type": "stream",
     "text": [
      "Dimesiones: 145460 filas, 25 columnas\n",
      "Total de Valores NAN: 343248\n",
      "                          Nombre Columna  Tipo Dato     #Unicos Cant Valores NAN\n",
      "                                Location     object          49          0\n",
      "                             WindGustDir     object           8      10326\n",
      "                              WindDir9am     object           8      10566\n",
      "                              WindDir3pm     object           8       4228\n",
      "                               RainToday     object           2       3261\n",
      "                            RainTomorrow     object           2       3267\n",
      "                                 MinTemp    float64         389       1485\n",
      "                                 MaxTemp    float64         505       1261\n",
      "                                Rainfall    float64         681       3261\n",
      "                             Evaporation    float64         358      62790\n",
      "                                Sunshine    float64         145      69835\n",
      "                           WindGustSpeed    float64          67      10263\n",
      "                            WindSpeed9am    float64          43       1767\n",
      "                            WindSpeed3pm    float64          44       3062\n",
      "                             Humidity9am    float64         101       2654\n",
      "                             Humidity3pm    float64         101       4507\n",
      "                             Pressure9am    float64         546      15065\n",
      "                             Pressure3pm    float64         549      15028\n",
      "                                Cloud9am    float64          10      55888\n",
      "                                Cloud3pm    float64          10      59358\n",
      "                                 Temp9am    float64         441       1767\n",
      "                                 Temp3pm    float64         502       3609\n",
      "                                    Year      int64          11          0\n",
      "                                   Month      int64          12          0\n",
      "                                     Day      int64          31          0\n"
     ]
    }
   ],
   "source": [
    "datos_NAN(df_f_f)"
   ]
  },
  {
   "attachments": {},
   "cell_type": "markdown",
   "metadata": {},
   "source": [
    "**Eliminar el ruido en las variables numéricas**"
   ]
  },
  {
   "cell_type": "code",
   "execution_count": 524,
   "metadata": {},
   "outputs": [],
   "source": [
    "df_f_IQR = df_f_f"
   ]
  },
  {
   "cell_type": "code",
   "execution_count": 525,
   "metadata": {},
   "outputs": [],
   "source": [
    "for i in df_f_f:\n",
    "    if df_f_f[i].dtype=='float64':\n",
    "        Q1 = df_f_f[i].quantile(0.25)\n",
    "        Q3 = df_f_f[i].quantile(0.75)\n",
    "        IQR = Q3-Q1\n",
    "        lower = Q1 - 1.5 * IQR\n",
    "        upper = Q3 + 1.5 * IQR\n",
    "        mediana = np.median(df_f_f[i])\n",
    "        for m in df_f_f[i]:\n",
    "            if m > upper or m < lower:\n",
    "                df_f_f[i] = df_f_f[i].replace(m, mediana)"
   ]
  },
  {
   "cell_type": "code",
   "execution_count": 526,
   "metadata": {},
   "outputs": [],
   "source": [
    "##for i in df_f_f:\n",
    "    ##if df_f_f[i].dtype=='float64':\n",
    "       ## df_f_f[i].replace(to_replace=np.nan, value=df_f_f[i].median(), inplace=True)"
   ]
  },
  {
   "cell_type": "code",
   "execution_count": 527,
   "metadata": {},
   "outputs": [
    {
     "data": {
      "image/png": "[encoded data removed]",
      "text/plain": [
       "<Figure size 1500x600 with 1 Axes>"
      ]
     },
     "metadata": {},
     "output_type": "display_data"
    }
   ],
   "source": [
    "#Se analizan observa la eliminación de los outliers\n",
    "plt.figure(figsize=[15,6])\n",
    "plt.title('Boxplot sin outliers')\n",
    "df_f_f.boxplot(column= ['MinTemp', 'MaxTemp', 'Rainfall', 'Evaporation', 'Sunshine', 'WindGustSpeed', 'WindSpeed9am', 'WindSpeed3pm', 'Humidity9am', 'Humidity3pm', 'Pressure9am', 'Pressure3pm', 'Cloud9am', 'Cloud3pm', 'Temp9am', 'Temp3pm'])\n",
    "plt.xticks(rotation=45)\n",
    "plt.show()"
   ]
  },
  {
   "cell_type": "code",
   "execution_count": 528,
   "metadata": {},
   "outputs": [
    {
     "name": "stdout",
     "output_type": "stream",
     "text": [
      "Dimesiones: 145460 filas, 25 columnas\n",
      "Total de Valores NAN: 383357\n",
      "                          Nombre Columna  Tipo Dato     #Unicos Cant Valores NAN\n",
      "                                Location     object          49          0\n",
      "                             WindGustDir     object           8      10326\n",
      "                              WindDir9am     object           8      10566\n",
      "                              WindDir3pm     object           8       4228\n",
      "                               RainToday     object           2       3261\n",
      "                            RainTomorrow     object           2       3267\n",
      "                                 MinTemp    float64         367       1539\n",
      "                                 MaxTemp    float64         412       1750\n",
      "                                Rainfall    float64          21      28839\n",
      "                             Evaporation    float64         145      64785\n",
      "                                Sunshine    float64         145      69835\n",
      "                           WindGustSpeed    float64          37      13355\n",
      "                            WindSpeed9am    float64          21       3584\n",
      "                            WindSpeed3pm    float64          22       5585\n",
      "                             Humidity9am    float64          83       4079\n",
      "                             Humidity3pm    float64         101       4507\n",
      "                             Pressure9am    float64         380      16256\n",
      "                             Pressure3pm    float64         388      15947\n",
      "                                Cloud9am    float64          10      55888\n",
      "                                Cloud3pm    float64          10      59358\n",
      "                                 Temp9am    float64         372       2029\n",
      "                                 Temp3pm    float64         391       4373\n",
      "                                    Year      int64          11          0\n",
      "                                   Month      int64          12          0\n",
      "                                     Day      int64          31          0\n"
     ]
    }
   ],
   "source": [
    "datos_NAN(df_f_f)"
   ]
  },
  {
   "cell_type": "code",
   "execution_count": 529,
   "metadata": {},
   "outputs": [],
   "source": [
    "#df_f_IQR_ = df_f_f[(df_f_f['Rainfall'] >= puntomin) & (df_f_f['Rainfall'] <= puntomax)]\n"
   ]
  },
  {
   "cell_type": "code",
   "execution_count": 530,
   "metadata": {},
   "outputs": [],
   "source": [
    "#df_f_IQR_ = df_f_f[(df_f_f['Evaporation'] >= puntomin) & (df_f_f['Evaporation'] <= puntomax)]\n"
   ]
  },
  {
   "cell_type": "code",
   "execution_count": 531,
   "metadata": {},
   "outputs": [
    {
     "data": {
      "text/plain": [
       "Text(0, 0.5, 'Cant Viento 3pm')"
      ]
     },
     "execution_count": 531,
     "metadata": {},
     "output_type": "execute_result"
    },
    {
     "data": {
      "image/png": "[encoded data removed]",
      "text/plain": [
       "<Figure size 1500x1000 with 4 Axes>"
      ]
     },
     "metadata": {},
     "output_type": "display_data"
    }
   ],
   "source": [
    "##Grafica para ver el ruido en los datos\n",
    "plt.figure(figsize=(15,10))\n",
    "\n",
    "plt.subplot(2,2,1)\n",
    "fig = df_f_f.boxplot(column='Rainfall')\n",
    "fig.set_title('Cantidad de Lluvia')\n",
    "fig.set_ylabel('Cant Lluvia')\n",
    "\n",
    "plt.subplot(2,2,2)\n",
    "fig = df_f_f.boxplot(column='Evaporation')\n",
    "fig.set_title('Cantidad de Evaporación')\n",
    "fig.set_ylabel('Cant Evaporación')\n",
    "\n",
    "plt.subplot(2,2,3)\n",
    "fig = df_f_f.boxplot(column='WindSpeed9am')\n",
    "fig.set_title('Cantidad de Viento 9am')\n",
    "fig.set_ylabel('Cant Viento')\n",
    "\n",
    "plt.subplot(2,2,4)\n",
    "fig = df_f_f.boxplot(column='WindSpeed3pm')\n",
    "fig.set_title('Cantidad de Viento 3pm')\n",
    "fig.set_ylabel('Cant Viento 3pm')"
   ]
  },
  {
   "cell_type": "code",
   "execution_count": 532,
   "metadata": {},
   "outputs": [
    {
     "data": {
      "text/plain": [
       "['MinTemp',\n",
       " 'MaxTemp',\n",
       " 'Rainfall',\n",
       " 'Evaporation',\n",
       " 'Sunshine',\n",
       " 'WindGustSpeed',\n",
       " 'WindSpeed9am',\n",
       " 'WindSpeed3pm',\n",
       " 'Humidity9am',\n",
       " 'Humidity3pm',\n",
       " 'Pressure9am',\n",
       " 'Pressure3pm',\n",
       " 'Cloud9am',\n",
       " 'Cloud3pm',\n",
       " 'Temp9am',\n",
       " 'Temp3pm']"
      ]
     },
     "execution_count": 532,
     "metadata": {},
     "output_type": "execute_result"
    }
   ],
   "source": [
    "numericas"
   ]
  },
  {
   "attachments": {},
   "cell_type": "markdown",
   "metadata": {},
   "source": [
    "## Hacer limpieza de moda para categóricos con doble foLimpieza de datos NaN en variables numericas con doble for"
   ]
  },
  {
   "cell_type": "code",
   "execution_count": 533,
   "metadata": {},
   "outputs": [
    {
     "name": "stdout",
     "output_type": "stream",
     "text": [
      "Dimesiones: 145460 filas, 25 columnas\n",
      "Total de Valores NAN: 383357\n",
      "                          Nombre Columna  Tipo Dato     #Unicos Cant Valores NAN\n",
      "                                Location     object          49          0\n",
      "                             WindGustDir     object           8      10326\n",
      "                              WindDir9am     object           8      10566\n",
      "                              WindDir3pm     object           8       4228\n",
      "                               RainToday     object           2       3261\n",
      "                            RainTomorrow     object           2       3267\n",
      "                                 MinTemp    float64         367       1539\n",
      "                                 MaxTemp    float64         412       1750\n",
      "                                Rainfall    float64          21      28839\n",
      "                             Evaporation    float64         145      64785\n",
      "                                Sunshine    float64         145      69835\n",
      "                           WindGustSpeed    float64          37      13355\n",
      "                            WindSpeed9am    float64          21       3584\n",
      "                            WindSpeed3pm    float64          22       5585\n",
      "                             Humidity9am    float64          83       4079\n",
      "                             Humidity3pm    float64         101       4507\n",
      "                             Pressure9am    float64         380      16256\n",
      "                             Pressure3pm    float64         388      15947\n",
      "                                Cloud9am    float64          10      55888\n",
      "                                Cloud3pm    float64          10      59358\n",
      "                                 Temp9am    float64         372       2029\n",
      "                                 Temp3pm    float64         391       4373\n",
      "                                    Year      int64          11          0\n",
      "                                   Month      int64          12          0\n",
      "                                     Day      int64          31          0\n"
     ]
    }
   ],
   "source": [
    "datos_NAN(df_f_f)"
   ]
  },
  {
   "attachments": {},
   "cell_type": "markdown",
   "metadata": {},
   "source": [
    "### Crear modelo"
   ]
  },
  {
   "cell_type": "code",
   "execution_count": 534,
   "metadata": {},
   "outputs": [],
   "source": [
    "## Crear modelo\n",
    "##Particiones X y\n",
    "X= df_f_f.drop(['RainTomorrow'], axis=1)\n",
    "y= df_f_f['RainTomorrow']"
   ]
  },
  {
   "cell_type": "code",
   "execution_count": 535,
   "metadata": {},
   "outputs": [],
   "source": [
    "##Particiones X_train, X_test, y_train, y_test\n",
    "\n",
    "X_train, X_test, y_train, y_test = train_test_split(X, y, test_size=0.20, random_state=42)"
   ]
  },
  {
   "cell_type": "code",
   "execution_count": 536,
   "metadata": {},
   "outputs": [
    {
     "data": {
      "text/plain": [
       "['Location', 'WindGustDir', 'WindDir9am', 'WindDir3pm', 'RainToday']"
      ]
     },
     "execution_count": 536,
     "metadata": {},
     "output_type": "execute_result"
    }
   ],
   "source": [
    "categoricosE = [i for i in X_train.columns if X_train[i].dtype=='O']\n",
    "\n",
    "categoricosE"
   ]
  },
  {
   "cell_type": "code",
   "execution_count": 537,
   "metadata": {},
   "outputs": [
    {
     "data": {
      "text/plain": [
       "['MinTemp',\n",
       " 'MaxTemp',\n",
       " 'Rainfall',\n",
       " 'Evaporation',\n",
       " 'Sunshine',\n",
       " 'WindGustSpeed',\n",
       " 'WindSpeed9am',\n",
       " 'WindSpeed3pm',\n",
       " 'Humidity9am',\n",
       " 'Humidity3pm',\n",
       " 'Pressure9am',\n",
       " 'Pressure3pm',\n",
       " 'Cloud9am',\n",
       " 'Cloud3pm',\n",
       " 'Temp9am',\n",
       " 'Temp3pm',\n",
       " 'Year',\n",
       " 'Month',\n",
       " 'Day']"
      ]
     },
     "execution_count": 537,
     "metadata": {},
     "output_type": "execute_result"
    }
   ],
   "source": [
    "numericosE = [i for i in X_train.columns if X_train[i].dtype!='O']\n",
    "\n",
    "numericosE  "
   ]
  },
  {
   "cell_type": "code",
   "execution_count": 538,
   "metadata": {},
   "outputs": [],
   "source": [
    "## Inputacion de datos numericos con modelo entrenado\n",
    "\n",
    "##For doble para limpieza de datos\n",
    "for df1 in [X_train, X_test]:\n",
    "    for col in numericosE:\n",
    "        col_median = X_train[col].median()\n",
    "        df1[col].fillna(col_median, inplace=True)"
   ]
  },
  {
   "cell_type": "code",
   "execution_count": 539,
   "metadata": {},
   "outputs": [],
   "source": [
    "##For gomelo Dos para categóricos\n",
    "for df2 in [X_train, X_test]:\n",
    "    for col in categoricosE:\n",
    "        col_mode = X_train[col].mode()[0]\n",
    "        df2[col].fillna(col_mode, inplace=True)"
   ]
  },
  {
   "attachments": {},
   "cell_type": "markdown",
   "metadata": {},
   "source": [
    "### Inputacion de datos categoricos con df entrenado"
   ]
  },
  {
   "attachments": {},
   "cell_type": "markdown",
   "metadata": {},
   "source": [
    "## Normalizar"
   ]
  },
  {
   "cell_type": "code",
   "execution_count": 540,
   "metadata": {},
   "outputs": [
    {
     "data": {
      "text/html": [
       "<div>\n",
       "<style scoped>\n",
       "    .dataframe tbody tr th:only-of-type {\n",
       "        vertical-align: middle;\n",
       "    }\n",
       "\n",
       "    .dataframe tbody tr th {\n",
       "        vertical-align: top;\n",
       "    }\n",
       "\n",
       "    .dataframe thead th {\n",
       "        text-align: right;\n",
       "    }\n",
       "</style>\n",
       "<table border=\"1\" class=\"dataframe\">\n",
       "  <thead>\n",
       "    <tr style=\"text-align: right;\">\n",
       "      <th></th>\n",
       "      <th>Location</th>\n",
       "      <th>WindGustDir</th>\n",
       "      <th>WindDir9am</th>\n",
       "      <th>WindDir3pm</th>\n",
       "      <th>RainToday_0</th>\n",
       "      <th>RainToday_1</th>\n",
       "      <th>MinTemp</th>\n",
       "      <th>MaxTemp</th>\n",
       "      <th>Rainfall</th>\n",
       "      <th>Evaporation</th>\n",
       "      <th>...</th>\n",
       "      <th>Humidity3pm</th>\n",
       "      <th>Pressure9am</th>\n",
       "      <th>Pressure3pm</th>\n",
       "      <th>Cloud9am</th>\n",
       "      <th>Cloud3pm</th>\n",
       "      <th>Temp9am</th>\n",
       "      <th>Temp3pm</th>\n",
       "      <th>Year</th>\n",
       "      <th>Month</th>\n",
       "      <th>Day</th>\n",
       "    </tr>\n",
       "  </thead>\n",
       "  <tbody>\n",
       "    <tr>\n",
       "      <th>111548</th>\n",
       "      <td>Albany</td>\n",
       "      <td>SurOeste</td>\n",
       "      <td>SurEste</td>\n",
       "      <td>SurEste</td>\n",
       "      <td>0</td>\n",
       "      <td>1</td>\n",
       "      <td>14.5</td>\n",
       "      <td>17.8</td>\n",
       "      <td>0.0</td>\n",
       "      <td>4.6</td>\n",
       "      <td>...</td>\n",
       "      <td>52.0</td>\n",
       "      <td>1024.1</td>\n",
       "      <td>1022.5</td>\n",
       "      <td>8.0</td>\n",
       "      <td>5.0</td>\n",
       "      <td>16.2</td>\n",
       "      <td>21.1</td>\n",
       "      <td>2017</td>\n",
       "      <td>4</td>\n",
       "      <td>24</td>\n",
       "    </tr>\n",
       "    <tr>\n",
       "      <th>142528</th>\n",
       "      <td>Katherine</td>\n",
       "      <td>SurEste</td>\n",
       "      <td>Norte</td>\n",
       "      <td>NorOeste</td>\n",
       "      <td>1</td>\n",
       "      <td>0</td>\n",
       "      <td>24.6</td>\n",
       "      <td>39.5</td>\n",
       "      <td>0.0</td>\n",
       "      <td>12.0</td>\n",
       "      <td>...</td>\n",
       "      <td>21.0</td>\n",
       "      <td>1011.8</td>\n",
       "      <td>1006.6</td>\n",
       "      <td>2.0</td>\n",
       "      <td>4.0</td>\n",
       "      <td>30.1</td>\n",
       "      <td>39.2</td>\n",
       "      <td>2013</td>\n",
       "      <td>10</td>\n",
       "      <td>11</td>\n",
       "    </tr>\n",
       "    <tr>\n",
       "      <th>65304</th>\n",
       "      <td>MelbourneAirport</td>\n",
       "      <td>SurEste</td>\n",
       "      <td>SurOeste</td>\n",
       "      <td>Sur</td>\n",
       "      <td>1</td>\n",
       "      <td>0</td>\n",
       "      <td>14.7</td>\n",
       "      <td>26.6</td>\n",
       "      <td>0.2</td>\n",
       "      <td>3.2</td>\n",
       "      <td>...</td>\n",
       "      <td>57.0</td>\n",
       "      <td>1018.2</td>\n",
       "      <td>1015.4</td>\n",
       "      <td>7.0</td>\n",
       "      <td>3.0</td>\n",
       "      <td>17.3</td>\n",
       "      <td>24.5</td>\n",
       "      <td>2012</td>\n",
       "      <td>2</td>\n",
       "      <td>18</td>\n",
       "    </tr>\n",
       "    <tr>\n",
       "      <th>40651</th>\n",
       "      <td>Williamtown</td>\n",
       "      <td>SurEste</td>\n",
       "      <td>SurOeste</td>\n",
       "      <td>SurEste</td>\n",
       "      <td>1</td>\n",
       "      <td>0</td>\n",
       "      <td>18.3</td>\n",
       "      <td>26.6</td>\n",
       "      <td>0.0</td>\n",
       "      <td>4.6</td>\n",
       "      <td>...</td>\n",
       "      <td>67.0</td>\n",
       "      <td>1017.0</td>\n",
       "      <td>1016.5</td>\n",
       "      <td>6.0</td>\n",
       "      <td>5.0</td>\n",
       "      <td>23.0</td>\n",
       "      <td>25.4</td>\n",
       "      <td>2012</td>\n",
       "      <td>2</td>\n",
       "      <td>18</td>\n",
       "    </tr>\n",
       "    <tr>\n",
       "      <th>97487</th>\n",
       "      <td>Adelaide</td>\n",
       "      <td>Oeste</td>\n",
       "      <td>SurOeste</td>\n",
       "      <td>SurOeste</td>\n",
       "      <td>1</td>\n",
       "      <td>0</td>\n",
       "      <td>11.4</td>\n",
       "      <td>19.3</td>\n",
       "      <td>0.6</td>\n",
       "      <td>2.4</td>\n",
       "      <td>...</td>\n",
       "      <td>47.0</td>\n",
       "      <td>1018.6</td>\n",
       "      <td>1017.1</td>\n",
       "      <td>5.0</td>\n",
       "      <td>5.0</td>\n",
       "      <td>14.4</td>\n",
       "      <td>18.3</td>\n",
       "      <td>2011</td>\n",
       "      <td>10</td>\n",
       "      <td>11</td>\n",
       "    </tr>\n",
       "  </tbody>\n",
       "</table>\n",
       "<p>5 rows × 25 columns</p>\n",
       "</div>"
      ],
      "text/plain": [
       "                Location WindGustDir WindDir9am WindDir3pm  RainToday_0  \\\n",
       "111548            Albany    SurOeste    SurEste    SurEste            0   \n",
       "142528         Katherine     SurEste      Norte   NorOeste            1   \n",
       "65304   MelbourneAirport     SurEste   SurOeste        Sur            1   \n",
       "40651        Williamtown     SurEste   SurOeste    SurEste            1   \n",
       "97487           Adelaide       Oeste   SurOeste   SurOeste            1   \n",
       "\n",
       "        RainToday_1  MinTemp  MaxTemp  Rainfall  Evaporation  ...  \\\n",
       "111548            1     14.5     17.8       0.0          4.6  ...   \n",
       "142528            0     24.6     39.5       0.0         12.0  ...   \n",
       "65304             0     14.7     26.6       0.2          3.2  ...   \n",
       "40651             0     18.3     26.6       0.0          4.6  ...   \n",
       "97487             0     11.4     19.3       0.6          2.4  ...   \n",
       "\n",
       "        Humidity3pm  Pressure9am  Pressure3pm  Cloud9am  Cloud3pm  Temp9am  \\\n",
       "111548         52.0       1024.1       1022.5       8.0       5.0     16.2   \n",
       "142528         21.0       1011.8       1006.6       2.0       4.0     30.1   \n",
       "65304          57.0       1018.2       1015.4       7.0       3.0     17.3   \n",
       "40651          67.0       1017.0       1016.5       6.0       5.0     23.0   \n",
       "97487          47.0       1018.6       1017.1       5.0       5.0     14.4   \n",
       "\n",
       "        Temp3pm  Year  Month  Day  \n",
       "111548     21.1  2017      4   24  \n",
       "142528     39.2  2013     10   11  \n",
       "65304      24.5  2012      2   18  \n",
       "40651      25.4  2012      2   18  \n",
       "97487      18.3  2011     10   11  \n",
       "\n",
       "[5 rows x 25 columns]"
      ]
     },
     "execution_count": 540,
     "metadata": {},
     "output_type": "execute_result"
    }
   ],
   "source": [
    "import category_encoders as ce\n",
    "\n",
    "encoder = ce.BinaryEncoder(cols=['RainToday'])\n",
    "\n",
    "X_train = encoder.fit_transform(X_train)\n",
    "\n",
    "X_test = encoder.fit_transform(X_test)\n",
    "\n",
    "X_train.head()"
   ]
  },
  {
   "cell_type": "code",
   "execution_count": 543,
   "metadata": {},
   "outputs": [],
   "source": [
    "X_train = pd.concat([X_train[numericos], X_train[['RainToday_0','RainToday_1']],\n",
    "                     pd.get_dummies(X_train.Location),\n",
    "                     pd.get_dummies(X_train.WindGustDir),\n",
    "                     pd.get_dummies(X_train.WindDir9am),\n",
    "                     pd.get_dummies(X_train.WindDir3pm)], axis=1)"
   ]
  },
  {
   "cell_type": "code",
   "execution_count": 544,
   "metadata": {},
   "outputs": [],
   "source": [
    "X_test = pd.concat([X_test[numericos], X_test[['RainToday_0','RainToday_1']],\n",
    "                     pd.get_dummies(X_test.Location),\n",
    "                     pd.get_dummies(X_test.WindGustDir),\n",
    "                     pd.get_dummies(X_test.WindDir9am),\n",
    "                     pd.get_dummies(X_test.WindDir3pm)], axis=1)"
   ]
  },
  {
   "cell_type": "code",
   "execution_count": 545,
   "metadata": {},
   "outputs": [
    {
     "data": {
      "text/html": [
       "<div>\n",
       "<style scoped>\n",
       "    .dataframe tbody tr th:only-of-type {\n",
       "        vertical-align: middle;\n",
       "    }\n",
       "\n",
       "    .dataframe tbody tr th {\n",
       "        vertical-align: top;\n",
       "    }\n",
       "\n",
       "    .dataframe thead th {\n",
       "        text-align: right;\n",
       "    }\n",
       "</style>\n",
       "<table border=\"1\" class=\"dataframe\">\n",
       "  <thead>\n",
       "    <tr style=\"text-align: right;\">\n",
       "      <th></th>\n",
       "      <th>MinTemp</th>\n",
       "      <th>MaxTemp</th>\n",
       "      <th>Rainfall</th>\n",
       "      <th>Evaporation</th>\n",
       "      <th>Sunshine</th>\n",
       "      <th>WindGustSpeed</th>\n",
       "      <th>WindSpeed9am</th>\n",
       "      <th>WindSpeed3pm</th>\n",
       "      <th>Humidity9am</th>\n",
       "      <th>Humidity3pm</th>\n",
       "      <th>...</th>\n",
       "      <th>SurEste</th>\n",
       "      <th>SurOeste</th>\n",
       "      <th>Este</th>\n",
       "      <th>NorEste</th>\n",
       "      <th>NorOeste</th>\n",
       "      <th>Norte</th>\n",
       "      <th>Oeste</th>\n",
       "      <th>Sur</th>\n",
       "      <th>SurEste</th>\n",
       "      <th>SurOeste</th>\n",
       "    </tr>\n",
       "  </thead>\n",
       "  <tbody>\n",
       "    <tr>\n",
       "      <th>count</th>\n",
       "      <td>116368.000000</td>\n",
       "      <td>116368.000000</td>\n",
       "      <td>116368.000000</td>\n",
       "      <td>116368.000000</td>\n",
       "      <td>116368.000000</td>\n",
       "      <td>116368.000000</td>\n",
       "      <td>116368.000000</td>\n",
       "      <td>116368.000000</td>\n",
       "      <td>116368.000000</td>\n",
       "      <td>116368.000000</td>\n",
       "      <td>...</td>\n",
       "      <td>116368.000000</td>\n",
       "      <td>116368.000000</td>\n",
       "      <td>116368.000000</td>\n",
       "      <td>116368.000000</td>\n",
       "      <td>116368.000000</td>\n",
       "      <td>116368.000000</td>\n",
       "      <td>116368.000000</td>\n",
       "      <td>116368.000000</td>\n",
       "      <td>116368.000000</td>\n",
       "      <td>116368.000000</td>\n",
       "    </tr>\n",
       "    <tr>\n",
       "      <th>mean</th>\n",
       "      <td>12.199941</td>\n",
       "      <td>23.237356</td>\n",
       "      <td>0.124800</td>\n",
       "      <td>4.871761</td>\n",
       "      <td>7.991327</td>\n",
       "      <td>38.853001</td>\n",
       "      <td>13.649096</td>\n",
       "      <td>18.134281</td>\n",
       "      <td>69.491269</td>\n",
       "      <td>51.564992</td>\n",
       "      <td>...</td>\n",
       "      <td>0.251796</td>\n",
       "      <td>0.158231</td>\n",
       "      <td>0.058195</td>\n",
       "      <td>0.155825</td>\n",
       "      <td>0.174395</td>\n",
       "      <td>0.060996</td>\n",
       "      <td>0.069443</td>\n",
       "      <td>0.068232</td>\n",
       "      <td>0.227382</td>\n",
       "      <td>0.185532</td>\n",
       "    </tr>\n",
       "    <tr>\n",
       "      <th>std</th>\n",
       "      <td>6.356376</td>\n",
       "      <td>6.964246</td>\n",
       "      <td>0.358041</td>\n",
       "      <td>2.339725</td>\n",
       "      <td>2.755849</td>\n",
       "      <td>11.507357</td>\n",
       "      <td>8.157758</td>\n",
       "      <td>7.935546</td>\n",
       "      <td>17.985353</td>\n",
       "      <td>20.458995</td>\n",
       "      <td>...</td>\n",
       "      <td>0.434047</td>\n",
       "      <td>0.364959</td>\n",
       "      <td>0.234112</td>\n",
       "      <td>0.362691</td>\n",
       "      <td>0.379450</td>\n",
       "      <td>0.239324</td>\n",
       "      <td>0.254208</td>\n",
       "      <td>0.252144</td>\n",
       "      <td>0.419143</td>\n",
       "      <td>0.388730</td>\n",
       "    </tr>\n",
       "    <tr>\n",
       "      <th>min</th>\n",
       "      <td>-6.300000</td>\n",
       "      <td>2.500000</td>\n",
       "      <td>0.000000</td>\n",
       "      <td>0.000000</td>\n",
       "      <td>0.000000</td>\n",
       "      <td>6.000000</td>\n",
       "      <td>0.000000</td>\n",
       "      <td>0.000000</td>\n",
       "      <td>18.000000</td>\n",
       "      <td>0.000000</td>\n",
       "      <td>...</td>\n",
       "      <td>0.000000</td>\n",
       "      <td>0.000000</td>\n",
       "      <td>0.000000</td>\n",
       "      <td>0.000000</td>\n",
       "      <td>0.000000</td>\n",
       "      <td>0.000000</td>\n",
       "      <td>0.000000</td>\n",
       "      <td>0.000000</td>\n",
       "      <td>0.000000</td>\n",
       "      <td>0.000000</td>\n",
       "    </tr>\n",
       "    <tr>\n",
       "      <th>25%</th>\n",
       "      <td>7.700000</td>\n",
       "      <td>18.000000</td>\n",
       "      <td>0.000000</td>\n",
       "      <td>4.200000</td>\n",
       "      <td>8.200000</td>\n",
       "      <td>31.000000</td>\n",
       "      <td>7.000000</td>\n",
       "      <td>13.000000</td>\n",
       "      <td>58.000000</td>\n",
       "      <td>37.000000</td>\n",
       "      <td>...</td>\n",
       "      <td>0.000000</td>\n",
       "      <td>0.000000</td>\n",
       "      <td>0.000000</td>\n",
       "      <td>0.000000</td>\n",
       "      <td>0.000000</td>\n",
       "      <td>0.000000</td>\n",
       "      <td>0.000000</td>\n",
       "      <td>0.000000</td>\n",
       "      <td>0.000000</td>\n",
       "      <td>0.000000</td>\n",
       "    </tr>\n",
       "    <tr>\n",
       "      <th>50%</th>\n",
       "      <td>12.000000</td>\n",
       "      <td>22.600000</td>\n",
       "      <td>0.000000</td>\n",
       "      <td>4.600000</td>\n",
       "      <td>8.400000</td>\n",
       "      <td>37.000000</td>\n",
       "      <td>13.000000</td>\n",
       "      <td>17.000000</td>\n",
       "      <td>70.000000</td>\n",
       "      <td>52.000000</td>\n",
       "      <td>...</td>\n",
       "      <td>0.000000</td>\n",
       "      <td>0.000000</td>\n",
       "      <td>0.000000</td>\n",
       "      <td>0.000000</td>\n",
       "      <td>0.000000</td>\n",
       "      <td>0.000000</td>\n",
       "      <td>0.000000</td>\n",
       "      <td>0.000000</td>\n",
       "      <td>0.000000</td>\n",
       "      <td>0.000000</td>\n",
       "    </tr>\n",
       "    <tr>\n",
       "      <th>75%</th>\n",
       "      <td>16.800000</td>\n",
       "      <td>28.100000</td>\n",
       "      <td>0.000000</td>\n",
       "      <td>5.000000</td>\n",
       "      <td>8.700000</td>\n",
       "      <td>46.000000</td>\n",
       "      <td>19.000000</td>\n",
       "      <td>24.000000</td>\n",
       "      <td>83.000000</td>\n",
       "      <td>65.000000</td>\n",
       "      <td>...</td>\n",
       "      <td>1.000000</td>\n",
       "      <td>0.000000</td>\n",
       "      <td>0.000000</td>\n",
       "      <td>0.000000</td>\n",
       "      <td>0.000000</td>\n",
       "      <td>0.000000</td>\n",
       "      <td>0.000000</td>\n",
       "      <td>0.000000</td>\n",
       "      <td>0.000000</td>\n",
       "      <td>0.000000</td>\n",
       "    </tr>\n",
       "    <tr>\n",
       "      <th>max</th>\n",
       "      <td>30.500000</td>\n",
       "      <td>43.600000</td>\n",
       "      <td>2.000000</td>\n",
       "      <td>14.600000</td>\n",
       "      <td>14.500000</td>\n",
       "      <td>72.000000</td>\n",
       "      <td>37.000000</td>\n",
       "      <td>39.000000</td>\n",
       "      <td>100.000000</td>\n",
       "      <td>100.000000</td>\n",
       "      <td>...</td>\n",
       "      <td>1.000000</td>\n",
       "      <td>1.000000</td>\n",
       "      <td>1.000000</td>\n",
       "      <td>1.000000</td>\n",
       "      <td>1.000000</td>\n",
       "      <td>1.000000</td>\n",
       "      <td>1.000000</td>\n",
       "      <td>1.000000</td>\n",
       "      <td>1.000000</td>\n",
       "      <td>1.000000</td>\n",
       "    </tr>\n",
       "  </tbody>\n",
       "</table>\n",
       "<p>8 rows × 94 columns</p>\n",
       "</div>"
      ],
      "text/plain": [
       "             MinTemp        MaxTemp       Rainfall    Evaporation  \\\n",
       "count  116368.000000  116368.000000  116368.000000  116368.000000   \n",
       "mean       12.199941      23.237356       0.124800       4.871761   \n",
       "std         6.356376       6.964246       0.358041       2.339725   \n",
       "min        -6.300000       2.500000       0.000000       0.000000   \n",
       "25%         7.700000      18.000000       0.000000       4.200000   \n",
       "50%        12.000000      22.600000       0.000000       4.600000   \n",
       "75%        16.800000      28.100000       0.000000       5.000000   \n",
       "max        30.500000      43.600000       2.000000      14.600000   \n",
       "\n",
       "            Sunshine  WindGustSpeed   WindSpeed9am   WindSpeed3pm  \\\n",
       "count  116368.000000  116368.000000  116368.000000  116368.000000   \n",
       "mean        7.991327      38.853001      13.649096      18.134281   \n",
       "std         2.755849      11.507357       8.157758       7.935546   \n",
       "min         0.000000       6.000000       0.000000       0.000000   \n",
       "25%         8.200000      31.000000       7.000000      13.000000   \n",
       "50%         8.400000      37.000000      13.000000      17.000000   \n",
       "75%         8.700000      46.000000      19.000000      24.000000   \n",
       "max        14.500000      72.000000      37.000000      39.000000   \n",
       "\n",
       "         Humidity9am    Humidity3pm  ...        SurEste       SurOeste  \\\n",
       "count  116368.000000  116368.000000  ...  116368.000000  116368.000000   \n",
       "mean       69.491269      51.564992  ...       0.251796       0.158231   \n",
       "std        17.985353      20.458995  ...       0.434047       0.364959   \n",
       "min        18.000000       0.000000  ...       0.000000       0.000000   \n",
       "25%        58.000000      37.000000  ...       0.000000       0.000000   \n",
       "50%        70.000000      52.000000  ...       0.000000       0.000000   \n",
       "75%        83.000000      65.000000  ...       1.000000       0.000000   \n",
       "max       100.000000     100.000000  ...       1.000000       1.000000   \n",
       "\n",
       "                Este        NorEste       NorOeste          Norte  \\\n",
       "count  116368.000000  116368.000000  116368.000000  116368.000000   \n",
       "mean        0.058195       0.155825       0.174395       0.060996   \n",
       "std         0.234112       0.362691       0.379450       0.239324   \n",
       "min         0.000000       0.000000       0.000000       0.000000   \n",
       "25%         0.000000       0.000000       0.000000       0.000000   \n",
       "50%         0.000000       0.000000       0.000000       0.000000   \n",
       "75%         0.000000       0.000000       0.000000       0.000000   \n",
       "max         1.000000       1.000000       1.000000       1.000000   \n",
       "\n",
       "               Oeste            Sur        SurEste       SurOeste  \n",
       "count  116368.000000  116368.000000  116368.000000  116368.000000  \n",
       "mean        0.069443       0.068232       0.227382       0.185532  \n",
       "std         0.254208       0.252144       0.419143       0.388730  \n",
       "min         0.000000       0.000000       0.000000       0.000000  \n",
       "25%         0.000000       0.000000       0.000000       0.000000  \n",
       "50%         0.000000       0.000000       0.000000       0.000000  \n",
       "75%         0.000000       0.000000       0.000000       0.000000  \n",
       "max         1.000000       1.000000       1.000000       1.000000  \n",
       "\n",
       "[8 rows x 94 columns]"
      ]
     },
     "execution_count": 545,
     "metadata": {},
     "output_type": "execute_result"
    }
   ],
   "source": [
    "X_train.describe()"
   ]
  },
  {
   "cell_type": "code",
   "execution_count": 546,
   "metadata": {},
   "outputs": [],
   "source": [
    "###Normalizar\n",
    "columnas = X_train.columns\n",
    "\n",
    "scaler = MinMaxScaler()\n",
    "\n",
    "X_train = scaler.fit_transform(X_train)\n",
    "\n",
    "X_test = scaler.transform(X_test)"
   ]
  },
  {
   "cell_type": "code",
   "execution_count": 547,
   "metadata": {},
   "outputs": [],
   "source": [
    "##Agregar nombres de columnas\n",
    "X_train = pd.DataFrame(X_train, columns=[columnas])\n",
    "X_test = pd.DataFrame(X_test, columns=[columnas])"
   ]
  },
  {
   "cell_type": "code",
   "execution_count": 548,
   "metadata": {},
   "outputs": [
    {
     "data": {
      "text/html": [
       "<div>\n",
       "<style scoped>\n",
       "    .dataframe tbody tr th:only-of-type {\n",
       "        vertical-align: middle;\n",
       "    }\n",
       "\n",
       "    .dataframe tbody tr th {\n",
       "        vertical-align: top;\n",
       "    }\n",
       "\n",
       "    .dataframe thead tr th {\n",
       "        text-align: left;\n",
       "    }\n",
       "</style>\n",
       "<table border=\"1\" class=\"dataframe\">\n",
       "  <thead>\n",
       "    <tr>\n",
       "      <th></th>\n",
       "      <th>MinTemp</th>\n",
       "      <th>MaxTemp</th>\n",
       "      <th>Rainfall</th>\n",
       "      <th>Evaporation</th>\n",
       "      <th>Sunshine</th>\n",
       "      <th>WindGustSpeed</th>\n",
       "      <th>WindSpeed9am</th>\n",
       "      <th>WindSpeed3pm</th>\n",
       "      <th>Humidity9am</th>\n",
       "      <th>Humidity3pm</th>\n",
       "      <th>...</th>\n",
       "      <th>SurEste</th>\n",
       "      <th>SurOeste</th>\n",
       "      <th>Este</th>\n",
       "      <th>NorEste</th>\n",
       "      <th>NorOeste</th>\n",
       "      <th>Norte</th>\n",
       "      <th>Oeste</th>\n",
       "      <th>Sur</th>\n",
       "      <th>SurEste</th>\n",
       "      <th>SurOeste</th>\n",
       "    </tr>\n",
       "  </thead>\n",
       "  <tbody>\n",
       "    <tr>\n",
       "      <th>count</th>\n",
       "      <td>29092.000000</td>\n",
       "      <td>29092.000000</td>\n",
       "      <td>29092.000000</td>\n",
       "      <td>29092.000000</td>\n",
       "      <td>29092.000000</td>\n",
       "      <td>29092.000000</td>\n",
       "      <td>29092.000000</td>\n",
       "      <td>29092.000000</td>\n",
       "      <td>29092.000000</td>\n",
       "      <td>29092.00000</td>\n",
       "      <td>...</td>\n",
       "      <td>29092.000000</td>\n",
       "      <td>29092.000000</td>\n",
       "      <td>29092.000000</td>\n",
       "      <td>29092.000000</td>\n",
       "      <td>29092.000000</td>\n",
       "      <td>29092.000000</td>\n",
       "      <td>29092.000000</td>\n",
       "      <td>29092.000000</td>\n",
       "      <td>29092.000000</td>\n",
       "      <td>29092.000000</td>\n",
       "    </tr>\n",
       "    <tr>\n",
       "      <th>mean</th>\n",
       "      <td>0.502312</td>\n",
       "      <td>0.504787</td>\n",
       "      <td>0.061943</td>\n",
       "      <td>0.333522</td>\n",
       "      <td>0.550630</td>\n",
       "      <td>0.498432</td>\n",
       "      <td>0.367660</td>\n",
       "      <td>0.464871</td>\n",
       "      <td>0.626185</td>\n",
       "      <td>0.51507</td>\n",
       "      <td>...</td>\n",
       "      <td>0.250722</td>\n",
       "      <td>0.158841</td>\n",
       "      <td>0.058435</td>\n",
       "      <td>0.157328</td>\n",
       "      <td>0.173931</td>\n",
       "      <td>0.061598</td>\n",
       "      <td>0.069744</td>\n",
       "      <td>0.068266</td>\n",
       "      <td>0.223773</td>\n",
       "      <td>0.186924</td>\n",
       "    </tr>\n",
       "    <tr>\n",
       "      <th>std</th>\n",
       "      <td>0.172540</td>\n",
       "      <td>0.169898</td>\n",
       "      <td>0.177008</td>\n",
       "      <td>0.161284</td>\n",
       "      <td>0.190730</td>\n",
       "      <td>0.174087</td>\n",
       "      <td>0.219935</td>\n",
       "      <td>0.202344</td>\n",
       "      <td>0.220498</td>\n",
       "      <td>0.20521</td>\n",
       "      <td>...</td>\n",
       "      <td>0.433436</td>\n",
       "      <td>0.365534</td>\n",
       "      <td>0.234569</td>\n",
       "      <td>0.364116</td>\n",
       "      <td>0.379057</td>\n",
       "      <td>0.240428</td>\n",
       "      <td>0.254720</td>\n",
       "      <td>0.252206</td>\n",
       "      <td>0.416779</td>\n",
       "      <td>0.389857</td>\n",
       "    </tr>\n",
       "    <tr>\n",
       "      <th>min</th>\n",
       "      <td>0.000000</td>\n",
       "      <td>0.000000</td>\n",
       "      <td>0.000000</td>\n",
       "      <td>0.000000</td>\n",
       "      <td>0.000000</td>\n",
       "      <td>0.015152</td>\n",
       "      <td>0.000000</td>\n",
       "      <td>0.000000</td>\n",
       "      <td>0.000000</td>\n",
       "      <td>0.01000</td>\n",
       "      <td>...</td>\n",
       "      <td>0.000000</td>\n",
       "      <td>0.000000</td>\n",
       "      <td>0.000000</td>\n",
       "      <td>0.000000</td>\n",
       "      <td>0.000000</td>\n",
       "      <td>0.000000</td>\n",
       "      <td>0.000000</td>\n",
       "      <td>0.000000</td>\n",
       "      <td>0.000000</td>\n",
       "      <td>0.000000</td>\n",
       "    </tr>\n",
       "    <tr>\n",
       "      <th>25%</th>\n",
       "      <td>0.377717</td>\n",
       "      <td>0.377129</td>\n",
       "      <td>0.000000</td>\n",
       "      <td>0.273973</td>\n",
       "      <td>0.565517</td>\n",
       "      <td>0.378788</td>\n",
       "      <td>0.189189</td>\n",
       "      <td>0.333333</td>\n",
       "      <td>0.487805</td>\n",
       "      <td>0.37000</td>\n",
       "      <td>...</td>\n",
       "      <td>0.000000</td>\n",
       "      <td>0.000000</td>\n",
       "      <td>0.000000</td>\n",
       "      <td>0.000000</td>\n",
       "      <td>0.000000</td>\n",
       "      <td>0.000000</td>\n",
       "      <td>0.000000</td>\n",
       "      <td>0.000000</td>\n",
       "      <td>0.000000</td>\n",
       "      <td>0.000000</td>\n",
       "    </tr>\n",
       "    <tr>\n",
       "      <th>50%</th>\n",
       "      <td>0.497283</td>\n",
       "      <td>0.489051</td>\n",
       "      <td>0.000000</td>\n",
       "      <td>0.315068</td>\n",
       "      <td>0.579310</td>\n",
       "      <td>0.469697</td>\n",
       "      <td>0.351351</td>\n",
       "      <td>0.435897</td>\n",
       "      <td>0.634146</td>\n",
       "      <td>0.52000</td>\n",
       "      <td>...</td>\n",
       "      <td>0.000000</td>\n",
       "      <td>0.000000</td>\n",
       "      <td>0.000000</td>\n",
       "      <td>0.000000</td>\n",
       "      <td>0.000000</td>\n",
       "      <td>0.000000</td>\n",
       "      <td>0.000000</td>\n",
       "      <td>0.000000</td>\n",
       "      <td>0.000000</td>\n",
       "      <td>0.000000</td>\n",
       "    </tr>\n",
       "    <tr>\n",
       "      <th>75%</th>\n",
       "      <td>0.627717</td>\n",
       "      <td>0.625304</td>\n",
       "      <td>0.000000</td>\n",
       "      <td>0.342466</td>\n",
       "      <td>0.600000</td>\n",
       "      <td>0.606061</td>\n",
       "      <td>0.513514</td>\n",
       "      <td>0.615385</td>\n",
       "      <td>0.792683</td>\n",
       "      <td>0.65000</td>\n",
       "      <td>...</td>\n",
       "      <td>1.000000</td>\n",
       "      <td>0.000000</td>\n",
       "      <td>0.000000</td>\n",
       "      <td>0.000000</td>\n",
       "      <td>0.000000</td>\n",
       "      <td>0.000000</td>\n",
       "      <td>0.000000</td>\n",
       "      <td>0.000000</td>\n",
       "      <td>0.000000</td>\n",
       "      <td>0.000000</td>\n",
       "    </tr>\n",
       "    <tr>\n",
       "      <th>max</th>\n",
       "      <td>1.005435</td>\n",
       "      <td>1.000000</td>\n",
       "      <td>1.000000</td>\n",
       "      <td>1.000000</td>\n",
       "      <td>0.986207</td>\n",
       "      <td>1.000000</td>\n",
       "      <td>1.000000</td>\n",
       "      <td>1.000000</td>\n",
       "      <td>1.000000</td>\n",
       "      <td>1.00000</td>\n",
       "      <td>...</td>\n",
       "      <td>1.000000</td>\n",
       "      <td>1.000000</td>\n",
       "      <td>1.000000</td>\n",
       "      <td>1.000000</td>\n",
       "      <td>1.000000</td>\n",
       "      <td>1.000000</td>\n",
       "      <td>1.000000</td>\n",
       "      <td>1.000000</td>\n",
       "      <td>1.000000</td>\n",
       "      <td>1.000000</td>\n",
       "    </tr>\n",
       "  </tbody>\n",
       "</table>\n",
       "<p>8 rows × 94 columns</p>\n",
       "</div>"
      ],
      "text/plain": [
       "            MinTemp       MaxTemp      Rainfall   Evaporation      Sunshine  \\\n",
       "count  29092.000000  29092.000000  29092.000000  29092.000000  29092.000000   \n",
       "mean       0.502312      0.504787      0.061943      0.333522      0.550630   \n",
       "std        0.172540      0.169898      0.177008      0.161284      0.190730   \n",
       "min        0.000000      0.000000      0.000000      0.000000      0.000000   \n",
       "25%        0.377717      0.377129      0.000000      0.273973      0.565517   \n",
       "50%        0.497283      0.489051      0.000000      0.315068      0.579310   \n",
       "75%        0.627717      0.625304      0.000000      0.342466      0.600000   \n",
       "max        1.005435      1.000000      1.000000      1.000000      0.986207   \n",
       "\n",
       "      WindGustSpeed  WindSpeed9am  WindSpeed3pm   Humidity9am  Humidity3pm  \\\n",
       "count  29092.000000  29092.000000  29092.000000  29092.000000  29092.00000   \n",
       "mean       0.498432      0.367660      0.464871      0.626185      0.51507   \n",
       "std        0.174087      0.219935      0.202344      0.220498      0.20521   \n",
       "min        0.015152      0.000000      0.000000      0.000000      0.01000   \n",
       "25%        0.378788      0.189189      0.333333      0.487805      0.37000   \n",
       "50%        0.469697      0.351351      0.435897      0.634146      0.52000   \n",
       "75%        0.606061      0.513514      0.615385      0.792683      0.65000   \n",
       "max        1.000000      1.000000      1.000000      1.000000      1.00000   \n",
       "\n",
       "       ...       SurEste      SurOeste          Este       NorEste  \\\n",
       "count  ...  29092.000000  29092.000000  29092.000000  29092.000000   \n",
       "mean   ...      0.250722      0.158841      0.058435      0.157328   \n",
       "std    ...      0.433436      0.365534      0.234569      0.364116   \n",
       "min    ...      0.000000      0.000000      0.000000      0.000000   \n",
       "25%    ...      0.000000      0.000000      0.000000      0.000000   \n",
       "50%    ...      0.000000      0.000000      0.000000      0.000000   \n",
       "75%    ...      1.000000      0.000000      0.000000      0.000000   \n",
       "max    ...      1.000000      1.000000      1.000000      1.000000   \n",
       "\n",
       "           NorOeste         Norte         Oeste           Sur       SurEste  \\\n",
       "count  29092.000000  29092.000000  29092.000000  29092.000000  29092.000000   \n",
       "mean       0.173931      0.061598      0.069744      0.068266      0.223773   \n",
       "std        0.379057      0.240428      0.254720      0.252206      0.416779   \n",
       "min        0.000000      0.000000      0.000000      0.000000      0.000000   \n",
       "25%        0.000000      0.000000      0.000000      0.000000      0.000000   \n",
       "50%        0.000000      0.000000      0.000000      0.000000      0.000000   \n",
       "75%        0.000000      0.000000      0.000000      0.000000      0.000000   \n",
       "max        1.000000      1.000000      1.000000      1.000000      1.000000   \n",
       "\n",
       "           SurOeste  \n",
       "count  29092.000000  \n",
       "mean       0.186924  \n",
       "std        0.389857  \n",
       "min        0.000000  \n",
       "25%        0.000000  \n",
       "50%        0.000000  \n",
       "75%        0.000000  \n",
       "max        1.000000  \n",
       "\n",
       "[8 rows x 94 columns]"
      ]
     },
     "execution_count": 548,
     "metadata": {},
     "output_type": "execute_result"
    }
   ],
   "source": [
    "##Agregar métricas\n",
    "X_test.describe()"
   ]
  },
  {
   "cell_type": "code",
   "execution_count": 549,
   "metadata": {},
   "outputs": [],
   "source": [
    "###Revisión de Y - y_train, y_test\n",
    "y_train.fillna(y_train.mode()[0], inplace=True)\n",
    "y_test.fillna(y_test.mode()[0], inplace=True)"
   ]
  },
  {
   "attachments": {},
   "cell_type": "markdown",
   "metadata": {},
   "source": [
    "### Modelo Uno"
   ]
  },
  {
   "cell_type": "code",
   "execution_count": 550,
   "metadata": {},
   "outputs": [
    {
     "data": {
      "text/html": [
       "<style>#sk-container-id-1 {color: black;background-color: white;}#sk-container-id-1 pre{padding: 0;}#sk-container-id-1 div.sk-toggleable {background-color: white;}#sk-container-id-1 label.sk-toggleable__label {cursor: pointer;display: block;width: 100%;margin-bottom: 0;padding: 0.3em;box-sizing: border-box;text-align: center;}#sk-container-id-1 label.sk-toggleable__label-arrow:before {content: \"▸\";float: left;margin-right: 0.25em;color: #696969;}#sk-container-id-1 label.sk-toggleable__label-arrow:hover:before {color: black;}#sk-container-id-1 div.sk-estimator:hover label.sk-toggleable__label-arrow:before {color: black;}#sk-container-id-1 div.sk-toggleable__content {max-height: 0;max-width: 0;overflow: hidden;text-align: left;background-color: #f0f8ff;}#sk-container-id-1 div.sk-toggleable__content pre {margin: 0.2em;color: black;border-radius: 0.25em;background-color: #f0f8ff;}#sk-container-id-1 input.sk-toggleable__control:checked~div.sk-toggleable__content {max-height: 200px;max-width: 100%;overflow: auto;}#sk-container-id-1 input.sk-toggleable__control:checked~label.sk-toggleable__label-arrow:before {content: \"▾\";}#sk-container-id-1 div.sk-estimator input.sk-toggleable__control:checked~label.sk-toggleable__label {background-color: #d4ebff;}#sk-container-id-1 div.sk-label input.sk-toggleable__control:checked~label.sk-toggleable__label {background-color: #d4ebff;}#sk-container-id-1 input.sk-hidden--visually {border: 0;clip: rect(1px 1px 1px 1px);clip: rect(1px, 1px, 1px, 1px);height: 1px;margin: -1px;overflow: hidden;padding: 0;position: absolute;width: 1px;}#sk-container-id-1 div.sk-estimator {font-family: monospace;background-color: #f0f8ff;border: 1px dotted black;border-radius: 0.25em;box-sizing: border-box;margin-bottom: 0.5em;}#sk-container-id-1 div.sk-estimator:hover {background-color: #d4ebff;}#sk-container-id-1 div.sk-parallel-item::after {content: \"\";width: 100%;border-bottom: 1px solid gray;flex-grow: 1;}#sk-container-id-1 div.sk-label:hover label.sk-toggleable__label {background-color: #d4ebff;}#sk-container-id-1 div.sk-serial::before {content: \"\";position: absolute;border-left: 1px solid gray;box-sizing: border-box;top: 0;bottom: 0;left: 50%;z-index: 0;}#sk-container-id-1 div.sk-serial {display: flex;flex-direction: column;align-items: center;background-color: white;padding-right: 0.2em;padding-left: 0.2em;position: relative;}#sk-container-id-1 div.sk-item {position: relative;z-index: 1;}#sk-container-id-1 div.sk-parallel {display: flex;align-items: stretch;justify-content: center;background-color: white;position: relative;}#sk-container-id-1 div.sk-item::before, #sk-container-id-1 div.sk-parallel-item::before {content: \"\";position: absolute;border-left: 1px solid gray;box-sizing: border-box;top: 0;bottom: 0;left: 50%;z-index: -1;}#sk-container-id-1 div.sk-parallel-item {display: flex;flex-direction: column;z-index: 1;position: relative;background-color: white;}#sk-container-id-1 div.sk-parallel-item:first-child::after {align-self: flex-end;width: 50%;}#sk-container-id-1 div.sk-parallel-item:last-child::after {align-self: flex-start;width: 50%;}#sk-container-id-1 div.sk-parallel-item:only-child::after {width: 0;}#sk-container-id-1 div.sk-dashed-wrapped {border: 1px dashed gray;margin: 0 0.4em 0.5em 0.4em;box-sizing: border-box;padding-bottom: 0.4em;background-color: white;}#sk-container-id-1 div.sk-label label {font-family: monospace;font-weight: bold;display: inline-block;line-height: 1.2em;}#sk-container-id-1 div.sk-label-container {text-align: center;}#sk-container-id-1 div.sk-container {/* jupyter's `normalize.less` sets `[hidden] { display: none; }` but bootstrap.min.css set `[hidden] { display: none !important; }` so we also need the `!important` here to be able to override the default hidden behavior on the sphinx rendered scikit-learn.org. See: https://github.com/scikit-learn/scikit-learn/issues/21755 */display: inline-block !important;position: relative;}#sk-container-id-1 div.sk-text-repr-fallback {display: none;}</style><div id=\"sk-container-id-1\" class=\"sk-top-container\"><div class=\"sk-text-repr-fallback\"><pre>LogisticRegression(random_state=42, solver=&#x27;liblinear&#x27;)</pre><b>In a Jupyter environment, please rerun this cell to show the HTML representation or trust the notebook. <br />On GitHub, the HTML representation is unable to render, please try loading this page with nbviewer.org.</b></div><div class=\"sk-container\" hidden><div class=\"sk-item\"><div class=\"sk-estimator sk-toggleable\"><input class=\"sk-toggleable__control sk-hidden--visually\" id=\"sk-estimator-id-1\" type=\"checkbox\" checked><label for=\"sk-estimator-id-1\" class=\"sk-toggleable__label sk-toggleable__label-arrow\">LogisticRegression</label><div class=\"sk-toggleable__content\"><pre>LogisticRegression(random_state=42, solver=&#x27;liblinear&#x27;)</pre></div></div></div></div></div>"
      ],
      "text/plain": [
       "LogisticRegression(random_state=42, solver='liblinear')"
      ]
     },
     "execution_count": 550,
     "metadata": {},
     "output_type": "execute_result"
    }
   ],
   "source": [
    "from sklearn.linear_model import LogisticRegression\n",
    "\n",
    "reglog1 = LogisticRegression(solver='liblinear', random_state=42)\n",
    "\n",
    "reglog1.fit(X_train, y_train)"
   ]
  },
  {
   "cell_type": "code",
   "execution_count": 551,
   "metadata": {},
   "outputs": [
    {
     "data": {
      "text/plain": [
       "array(['Yes', 'No', 'No', ..., 'No', 'No', 'No'], dtype=object)"
      ]
     },
     "execution_count": 551,
     "metadata": {},
     "output_type": "execute_result"
    }
   ],
   "source": [
    "y_pred_test = reglog1.predict(X_test)\n",
    "\n",
    "y_pred_test"
   ]
  },
  {
   "cell_type": "code",
   "execution_count": 552,
   "metadata": {},
   "outputs": [
    {
     "data": {
      "text/plain": [
       "array([0.2709905 , 0.97645491, 0.64831296, ..., 0.84397101, 0.71409084,\n",
       "       0.85154372])"
      ]
     },
     "execution_count": 552,
     "metadata": {},
     "output_type": "execute_result"
    }
   ],
   "source": [
    "##Probabilidad de que no llueva mañana corresponde a cero \n",
    "reglog1.predict_proba(X_test)[:,0]"
   ]
  },
  {
   "cell_type": "code",
   "execution_count": 553,
   "metadata": {},
   "outputs": [
    {
     "data": {
      "text/plain": [
       "array([0.7290095 , 0.02354509, 0.35168704, ..., 0.15602899, 0.28590916,\n",
       "       0.14845628])"
      ]
     },
     "execution_count": 553,
     "metadata": {},
     "output_type": "execute_result"
    }
   ],
   "source": [
    "##Probabilidad de que llueva mañana corresponde a uno\n",
    "reglog1.predict_proba(X_test)[:,1]"
   ]
  },
  {
   "cell_type": "code",
   "execution_count": 554,
   "metadata": {},
   "outputs": [
    {
     "name": "stdout",
     "output_type": "stream",
     "text": [
      "La eficiencia del modelo de manera general es: 0.8438\n"
     ]
    }
   ],
   "source": [
    "###Eficiencia del modelo con testeo\n",
    "from sklearn.metrics import accuracy_score\n",
    "\n",
    "print(\"La eficiencia del modelo de manera general es: {0:0.4f}\".format(accuracy_score(y_test, y_pred_test)))"
   ]
  },
  {
   "cell_type": "code",
   "execution_count": 555,
   "metadata": {},
   "outputs": [
    {
     "data": {
      "text/plain": [
       "array(['No', 'No', 'No', ..., 'No', 'No', 'No'], dtype=object)"
      ]
     },
     "execution_count": 555,
     "metadata": {},
     "output_type": "execute_result"
    }
   ],
   "source": [
    "y_pred_train = reglog1.predict(X_train)\n",
    "\n",
    "y_pred_train"
   ]
  },
  {
   "cell_type": "code",
   "execution_count": 556,
   "metadata": {},
   "outputs": [
    {
     "name": "stdout",
     "output_type": "stream",
     "text": [
      "La eficiencia del modelo de manera general es: 0.8460\n"
     ]
    }
   ],
   "source": [
    "print(\"La eficiencia del modelo de manera general es: {0:0.4f}\".format(accuracy_score(y_train, y_pred_train)))"
   ]
  },
  {
   "cell_type": "code",
   "execution_count": 557,
   "metadata": {},
   "outputs": [
    {
     "data": {
      "text/html": [
       "<style>#sk-container-id-2 {color: black;background-color: white;}#sk-container-id-2 pre{padding: 0;}#sk-container-id-2 div.sk-toggleable {background-color: white;}#sk-container-id-2 label.sk-toggleable__label {cursor: pointer;display: block;width: 100%;margin-bottom: 0;padding: 0.3em;box-sizing: border-box;text-align: center;}#sk-container-id-2 label.sk-toggleable__label-arrow:before {content: \"▸\";float: left;margin-right: 0.25em;color: #696969;}#sk-container-id-2 label.sk-toggleable__label-arrow:hover:before {color: black;}#sk-container-id-2 div.sk-estimator:hover label.sk-toggleable__label-arrow:before {color: black;}#sk-container-id-2 div.sk-toggleable__content {max-height: 0;max-width: 0;overflow: hidden;text-align: left;background-color: #f0f8ff;}#sk-container-id-2 div.sk-toggleable__content pre {margin: 0.2em;color: black;border-radius: 0.25em;background-color: #f0f8ff;}#sk-container-id-2 input.sk-toggleable__control:checked~div.sk-toggleable__content {max-height: 200px;max-width: 100%;overflow: auto;}#sk-container-id-2 input.sk-toggleable__control:checked~label.sk-toggleable__label-arrow:before {content: \"▾\";}#sk-container-id-2 div.sk-estimator input.sk-toggleable__control:checked~label.sk-toggleable__label {background-color: #d4ebff;}#sk-container-id-2 div.sk-label input.sk-toggleable__control:checked~label.sk-toggleable__label {background-color: #d4ebff;}#sk-container-id-2 input.sk-hidden--visually {border: 0;clip: rect(1px 1px 1px 1px);clip: rect(1px, 1px, 1px, 1px);height: 1px;margin: -1px;overflow: hidden;padding: 0;position: absolute;width: 1px;}#sk-container-id-2 div.sk-estimator {font-family: monospace;background-color: #f0f8ff;border: 1px dotted black;border-radius: 0.25em;box-sizing: border-box;margin-bottom: 0.5em;}#sk-container-id-2 div.sk-estimator:hover {background-color: #d4ebff;}#sk-container-id-2 div.sk-parallel-item::after {content: \"\";width: 100%;border-bottom: 1px solid gray;flex-grow: 1;}#sk-container-id-2 div.sk-label:hover label.sk-toggleable__label {background-color: #d4ebff;}#sk-container-id-2 div.sk-serial::before {content: \"\";position: absolute;border-left: 1px solid gray;box-sizing: border-box;top: 0;bottom: 0;left: 50%;z-index: 0;}#sk-container-id-2 div.sk-serial {display: flex;flex-direction: column;align-items: center;background-color: white;padding-right: 0.2em;padding-left: 0.2em;position: relative;}#sk-container-id-2 div.sk-item {position: relative;z-index: 1;}#sk-container-id-2 div.sk-parallel {display: flex;align-items: stretch;justify-content: center;background-color: white;position: relative;}#sk-container-id-2 div.sk-item::before, #sk-container-id-2 div.sk-parallel-item::before {content: \"\";position: absolute;border-left: 1px solid gray;box-sizing: border-box;top: 0;bottom: 0;left: 50%;z-index: -1;}#sk-container-id-2 div.sk-parallel-item {display: flex;flex-direction: column;z-index: 1;position: relative;background-color: white;}#sk-container-id-2 div.sk-parallel-item:first-child::after {align-self: flex-end;width: 50%;}#sk-container-id-2 div.sk-parallel-item:last-child::after {align-self: flex-start;width: 50%;}#sk-container-id-2 div.sk-parallel-item:only-child::after {width: 0;}#sk-container-id-2 div.sk-dashed-wrapped {border: 1px dashed gray;margin: 0 0.4em 0.5em 0.4em;box-sizing: border-box;padding-bottom: 0.4em;background-color: white;}#sk-container-id-2 div.sk-label label {font-family: monospace;font-weight: bold;display: inline-block;line-height: 1.2em;}#sk-container-id-2 div.sk-label-container {text-align: center;}#sk-container-id-2 div.sk-container {/* jupyter's `normalize.less` sets `[hidden] { display: none; }` but bootstrap.min.css set `[hidden] { display: none !important; }` so we also need the `!important` here to be able to override the default hidden behavior on the sphinx rendered scikit-learn.org. See: https://github.com/scikit-learn/scikit-learn/issues/21755 */display: inline-block !important;position: relative;}#sk-container-id-2 div.sk-text-repr-fallback {display: none;}</style><div id=\"sk-container-id-2\" class=\"sk-top-container\"><div class=\"sk-text-repr-fallback\"><pre>LogisticRegression(C=100, random_state=42, solver=&#x27;liblinear&#x27;)</pre><b>In a Jupyter environment, please rerun this cell to show the HTML representation or trust the notebook. <br />On GitHub, the HTML representation is unable to render, please try loading this page with nbviewer.org.</b></div><div class=\"sk-container\" hidden><div class=\"sk-item\"><div class=\"sk-estimator sk-toggleable\"><input class=\"sk-toggleable__control sk-hidden--visually\" id=\"sk-estimator-id-2\" type=\"checkbox\" checked><label for=\"sk-estimator-id-2\" class=\"sk-toggleable__label sk-toggleable__label-arrow\">LogisticRegression</label><div class=\"sk-toggleable__content\"><pre>LogisticRegression(C=100, random_state=42, solver=&#x27;liblinear&#x27;)</pre></div></div></div></div></div>"
      ],
      "text/plain": [
       "LogisticRegression(C=100, random_state=42, solver='liblinear')"
      ]
     },
     "execution_count": 557,
     "metadata": {},
     "output_type": "execute_result"
    }
   ],
   "source": [
    "reglog2 = LogisticRegression(C=100 ,solver='liblinear', random_state=42)\n",
    "\n",
    "reglog2.fit(X_train, y_train)"
   ]
  },
  {
   "cell_type": "code",
   "execution_count": 558,
   "metadata": {},
   "outputs": [
    {
     "name": "stdout",
     "output_type": "stream",
     "text": [
      "La eficiencia del modelo de manera general es C100: 0.8460\n",
      "La eficiencia del modelo de manera general es C100: 0.8438\n"
     ]
    }
   ],
   "source": [
    "print(\"La eficiencia del modelo de manera general es C100: {:.4f}\".format(reglog2.score(X_train, y_train)))\n",
    "print(\"La eficiencia del modelo de manera general es C100: {:.4f}\".format(reglog2.score(X_test, y_test)))"
   ]
  },
  {
   "cell_type": "code",
   "execution_count": 559,
   "metadata": {},
   "outputs": [
    {
     "name": "stdout",
     "output_type": "stream",
     "text": [
      "Matriz de confusión\n",
      "\n",
      " [[21453  1219]\n",
      " [ 3325  3095]]\n",
      "True Positives (TP)= 21453\n",
      "True Negatives (TN)= 3095\n",
      "False Positives (FP)= 1219\n",
      "False Negatives (FN)= 3325\n"
     ]
    }
   ],
   "source": [
    "##Métricas - Matriz de confusión\n",
    "from sklearn.metrics import confusion_matrix\n",
    "cm = confusion_matrix(y_test, y_pred_test)\n",
    "\n",
    "print('Matriz de confusión\\n\\n', cm)\n",
    "\n",
    "print('True Positives (TP)=', cm[0,0])\n",
    "print('True Negatives (TN)=', cm[1,1])\n",
    "print('False Positives (FP)=', cm[0,1])\n",
    "print('False Negatives (FN)=', cm[1,0])"
   ]
  },
  {
   "attachments": {},
   "cell_type": "markdown",
   "metadata": {},
   "source": [
    "En este caso, la matriz de confusión indica que su modelo clasificó correctamente 21,453 observaciones como verdaderos positivos y 3,095 observaciones como verdaderos negativos. Sin embargo, el modelo clasificó incorrectamente 1,219 observaciones como falsos positivos y 3,325 observaciones como falsos negativos."
   ]
  },
  {
   "cell_type": "code",
   "execution_count": 567,
   "metadata": {},
   "outputs": [
    {
     "data": {
      "text/plain": [
       "0.843805857280352"
      ]
     },
     "execution_count": 567,
     "metadata": {},
     "output_type": "execute_result"
    }
   ],
   "source": [
    "(21453+3095)/29092"
   ]
  },
  {
   "attachments": {},
   "cell_type": "markdown",
   "metadata": {},
   "source": [
    "Esto significa que su modelo clasificó correctamente el 83.58% de las observaciones."
   ]
  },
  {
   "cell_type": "code",
   "execution_count": 568,
   "metadata": {},
   "outputs": [
    {
     "data": {
      "text/plain": [
       "0.15619414271964802"
      ]
     },
     "execution_count": 568,
     "metadata": {},
     "output_type": "execute_result"
    }
   ],
   "source": [
    "(1219+3325)/29092"
   ]
  },
  {
   "cell_type": "code",
   "execution_count": 560,
   "metadata": {},
   "outputs": [
    {
     "data": {
      "text/plain": [
       "<Axes: >"
      ]
     },
     "execution_count": 560,
     "metadata": {},
     "output_type": "execute_result"
    },
    {
     "data": {
      "image/png": "[encoded data removed]",
      "text/plain": [
       "<Figure size 640x480 with 2 Axes>"
      ]
     },
     "metadata": {},
     "output_type": "display_data"
    }
   ],
   "source": [
    "##Hacer la gráfica \n",
    "cm_matrix = pd.DataFrame(data=cm, columns=['Si Llueve Actual:1','No Llueve Actual:0'],\n",
    "                         index=['Si llueve Predecido:1','No llueve Predecido:0'])\n",
    "sns.heatmap(cm_matrix, annot=True, fmt='d', cmap='YlGnBu')"
   ]
  },
  {
   "cell_type": "code",
   "execution_count": 561,
   "metadata": {},
   "outputs": [
    {
     "name": "stdout",
     "output_type": "stream",
     "text": [
      "              precision    recall  f1-score   support\n",
      "\n",
      "          No       0.87      0.95      0.90     22672\n",
      "         Yes       0.72      0.48      0.58      6420\n",
      "\n",
      "    accuracy                           0.84     29092\n",
      "   macro avg       0.79      0.71      0.74     29092\n",
      "weighted avg       0.83      0.84      0.83     29092\n",
      "\n"
     ]
    }
   ],
   "source": [
    "from sklearn.metrics import classification_report\n",
    "\n",
    "print(classification_report(y_test, y_pred_test))"
   ]
  },
  {
   "attachments": {},
   "cell_type": "markdown",
   "metadata": {},
   "source": [
    "la tabla muestra que su modelo tuvo una precisión de 0.87 y un recall de 0.95 para la clase \"No\" y una precisión de 0.72 y un recall de 0.48 para la clase \"Yes\". Esto significa que el modelo clasificó correctamente el 87% de las observaciones de la clase \"No\" y el 72% de las observaciones de la clase \"Yes\". El recall, por otro lado, indica cuántas de las observaciones positivas (en este caso, \"Yes\") se detectaron correctamente. El recall fue alto para la clase \"No\" (0.95), lo que indica que el modelo detectó correctamente la mayoría de las observaciones de la clase \"No\". Sin embargo, el recall fue bajo para la clase \"Yes\" (0.48), lo que indica que el modelo no detectó correctamente muchas de las observaciones de la clase \"Yes\". El F1-score es una medida que combina la precisión y el recall y es útil cuando desea comparar modelos con diferentes trade-offs entre estas dos métricas. El F1-score es más bajo para la clase \"Yes\" (0.58) que para la clase \"No\" (0.90), lo que indica que el modelo tuvo un desempeño generalmente peor para la clase \"Yes\"."
   ]
  },
  {
   "cell_type": "code",
   "execution_count": 562,
   "metadata": {},
   "outputs": [
    {
     "data": {
      "text/plain": [
       "array([[0.2709905 , 0.7290095 ],\n",
       "       [0.97645491, 0.02354509],\n",
       "       [0.64831296, 0.35168704],\n",
       "       [0.90213346, 0.09786654],\n",
       "       [0.5075466 , 0.4924534 ],\n",
       "       [0.93699833, 0.06300167],\n",
       "       [0.96464715, 0.03535285],\n",
       "       [0.66667788, 0.33332212],\n",
       "       [0.82475478, 0.17524522],\n",
       "       [0.4912856 , 0.5087144 ]])"
      ]
     },
     "execution_count": 562,
     "metadata": {},
     "output_type": "execute_result"
    }
   ],
   "source": [
    "###Probabilidades de las primeras 10 filas de llueva mañana o no\n",
    "y_pred_prob = reglog1.predict_proba(X_test)[0:10]\n",
    "\n",
    "y_pred_prob"
   ]
  },
  {
   "cell_type": "code",
   "execution_count": 563,
   "metadata": {},
   "outputs": [
    {
     "data": {
      "text/html": [
       "<div>\n",
       "<style scoped>\n",
       "    .dataframe tbody tr th:only-of-type {\n",
       "        vertical-align: middle;\n",
       "    }\n",
       "\n",
       "    .dataframe tbody tr th {\n",
       "        vertical-align: top;\n",
       "    }\n",
       "\n",
       "    .dataframe thead th {\n",
       "        text-align: right;\n",
       "    }\n",
       "</style>\n",
       "<table border=\"1\" class=\"dataframe\">\n",
       "  <thead>\n",
       "    <tr style=\"text-align: right;\">\n",
       "      <th></th>\n",
       "      <th>Prob No Llueva (0)</th>\n",
       "      <th>Prob Llueva (1)</th>\n",
       "    </tr>\n",
       "  </thead>\n",
       "  <tbody>\n",
       "    <tr>\n",
       "      <th>0</th>\n",
       "      <td>0.270991</td>\n",
       "      <td>0.729009</td>\n",
       "    </tr>\n",
       "    <tr>\n",
       "      <th>1</th>\n",
       "      <td>0.976455</td>\n",
       "      <td>0.023545</td>\n",
       "    </tr>\n",
       "    <tr>\n",
       "      <th>2</th>\n",
       "      <td>0.648313</td>\n",
       "      <td>0.351687</td>\n",
       "    </tr>\n",
       "    <tr>\n",
       "      <th>3</th>\n",
       "      <td>0.902133</td>\n",
       "      <td>0.097867</td>\n",
       "    </tr>\n",
       "    <tr>\n",
       "      <th>4</th>\n",
       "      <td>0.507547</td>\n",
       "      <td>0.492453</td>\n",
       "    </tr>\n",
       "    <tr>\n",
       "      <th>5</th>\n",
       "      <td>0.936998</td>\n",
       "      <td>0.063002</td>\n",
       "    </tr>\n",
       "    <tr>\n",
       "      <th>6</th>\n",
       "      <td>0.964647</td>\n",
       "      <td>0.035353</td>\n",
       "    </tr>\n",
       "    <tr>\n",
       "      <th>7</th>\n",
       "      <td>0.666678</td>\n",
       "      <td>0.333322</td>\n",
       "    </tr>\n",
       "    <tr>\n",
       "      <th>8</th>\n",
       "      <td>0.824755</td>\n",
       "      <td>0.175245</td>\n",
       "    </tr>\n",
       "    <tr>\n",
       "      <th>9</th>\n",
       "      <td>0.491286</td>\n",
       "      <td>0.508714</td>\n",
       "    </tr>\n",
       "  </tbody>\n",
       "</table>\n",
       "</div>"
      ],
      "text/plain": [
       "   Prob No Llueva (0)  Prob Llueva (1)\n",
       "0            0.270991         0.729009\n",
       "1            0.976455         0.023545\n",
       "2            0.648313         0.351687\n",
       "3            0.902133         0.097867\n",
       "4            0.507547         0.492453\n",
       "5            0.936998         0.063002\n",
       "6            0.964647         0.035353\n",
       "7            0.666678         0.333322\n",
       "8            0.824755         0.175245\n",
       "9            0.491286         0.508714"
      ]
     },
     "execution_count": 563,
     "metadata": {},
     "output_type": "execute_result"
    }
   ],
   "source": [
    "y_pred_prob_df = pd.DataFrame(data=y_pred_prob, columns=['Prob No Llueva (0)', 'Prob Llueva (1)'])\n",
    "\n",
    "y_pred_prob_df"
   ]
  },
  {
   "cell_type": "code",
   "execution_count": 564,
   "metadata": {},
   "outputs": [],
   "source": [
    "###Grafica ROC - AUC\n",
    "\n",
    "y_pred1 = reglog1.predict_proba(X_test)[:,1]"
   ]
  },
  {
   "cell_type": "code",
   "execution_count": 565,
   "metadata": {},
   "outputs": [
    {
     "data": {
      "image/png": "[encoded data removed]",
      "text/plain": [
       "<Figure size 600x400 with 1 Axes>"
      ]
     },
     "metadata": {},
     "output_type": "display_data"
    }
   ],
   "source": [
    "from sklearn.metrics import roc_curve\n",
    "\n",
    "fpr, tpr, thresholds = roc_curve(y_test, y_pred1, pos_label='Yes')\n",
    "\n",
    "plt.figure(figsize=(6,4))\n",
    "\n",
    "plt.plot(fpr, tpr, linewidth=2)\n",
    "\n",
    "plt.plot([0,1],[0,1], 'k--')\n",
    "\n",
    "plt.rcParams['font.size']=12\n",
    "\n",
    "plt.title('Curva de rendimiento del clasificador')\n",
    "\n",
    "plt.xlabel('Especificidad')\n",
    "\n",
    "plt.ylabel('Sensibilidad')\n",
    "\n",
    "plt.show()"
   ]
  },
  {
   "cell_type": "code",
   "execution_count": 566,
   "metadata": {},
   "outputs": [
    {
     "data": {
      "text/plain": [
       "0.8631846382489442"
      ]
     },
     "execution_count": 566,
     "metadata": {},
     "output_type": "execute_result"
    }
   ],
   "source": [
    "from sklearn.metrics import roc_auc_score\n",
    "\n",
    "roc_auc = roc_auc_score(y_test, y_pred1)\n",
    "\n",
    "roc_auc"
   ]
  }
 ],
 "metadata": {
  "kernelspec": {
   "display_name": "Python 3",
   "language": "python",
   "name": "python3"
  },
  "language_info": {
   "codemirror_mode": {
    "name": "ipython",
    "version": 3
   },
   "file_extension": ".py",
   "mimetype": "text/x-python",
   "name": "python",
   "nbconvert_exporter": "python",
   "pygments_lexer": "ipython3",
   "version": "3.10.9"
  },
  "orig_nbformat": 4
 },
 "nbformat": 4,
 "nbformat_minor": 2
}
